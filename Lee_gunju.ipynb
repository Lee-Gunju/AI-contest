{
  "nbformat": 4,
  "nbformat_minor": 0,
  "metadata": {
    "colab": {
      "name": "Lee_gunju.ipynb",
      "provenance": [],
      "authorship_tag": "ABX9TyPvhMPwJODFnuvwzRqAAB56",
      "include_colab_link": true
    },
    "kernelspec": {
      "name": "python3",
      "display_name": "Python 3"
    }
  },
  "cells": [
    {
      "cell_type": "markdown",
      "metadata": {
        "id": "view-in-github",
        "colab_type": "text"
      },
      "source": [
        "<a href=\"https://colab.research.google.com/github/Lee-Gunju/Lee-Gunju/blob/master/Lee_gunju.ipynb\" target=\"_parent\"><img src=\"https://colab.research.google.com/assets/colab-badge.svg\" alt=\"Open In Colab\"/></a>"
      ]
    },
    {
      "cell_type": "code",
      "metadata": {
        "id": "q9Ppy2N1yoCo",
        "colab_type": "code",
        "colab": {}
      },
      "source": [
        "import numpy as np\n",
        "import random\n",
        "import matplotlib.pyplot as plt"
      ],
      "execution_count": 0,
      "outputs": []
    },
    {
      "cell_type": "code",
      "metadata": {
        "id": "NZz05whWcoBe",
        "colab_type": "code",
        "colab": {
          "base_uri": "https://localhost:8080/",
          "height": 268
        },
        "outputId": "d9bf5eae-1946-4ade-9e9f-b641e213d2d8"
      },
      "source": [
        "m = 100 \n",
        "\n",
        "def create(m):\n",
        "    temp = []\n",
        "    for i in range(m):\n",
        "        X_temp = np.random.normal(0, 0.5)    #X value\n",
        "        Y_temp = X_temp * 0.1 + 0.3 + np.random.normal(0, 0.18) # Y value\n",
        "        temp.append([X_temp, Y_temp])   #X value, Y value\n",
        "    return temp\n",
        "\n",
        "temp_list = create(m)\n",
        "\n",
        "\n",
        "temp_array = np.array(temp_list)\n",
        "train_x = temp_array[:, 0] # train x data\n",
        "train_y = temp_array[:, 1] # train y data\n",
        "\n",
        "w = 1.0\n",
        "b = 1.0\n",
        "hypothesis = train_x * w + b # linear model \n",
        "\n",
        "plt.scatter(train_x, train_y, color = \"black\")\n",
        "plt.plot(train_x, hypothesis, color = 'blue')\n",
        "plt.show()"
      ],
      "execution_count": 2,
      "outputs": [
        {
          "output_type": "display_data",
          "data": {
            "image/png": "[encoded data removed]",
            "text/plain": [
              "<Figure size 432x288 with 1 Axes>"
            ]
          },
          "metadata": {
            "tags": []
          }
        }
      ]
    },
    {
      "cell_type": "code",
      "metadata": {
        "id": "B09M1oH5co-D",
        "colab_type": "code",
        "colab": {
          "base_uri": "https://localhost:8080/",
          "height": 917
        },
        "outputId": "18089c0a-a577-43f4-8a88-8d053bc8b8c7"
      },
      "source": [
        "n_data = len(train_x)\n",
        "epochs = 3000\n",
        "learning_rate = 0.01 # step_size \n",
        "\n",
        "for i in range(epochs):\n",
        "    hypothesis = train_x * w + b\n",
        "    cost = np.sum((hypothesis - train_y) ** 2) / 2 * n_data  # objective function \n",
        "    gradient_w = np.sum((w * train_x - train_y + b) * 2 * train_x) / n_data # gradient descent θ1\n",
        "    gradient_b = np.sum((w * train_x - train_y + b) * 2) / n_data # gradient descent θ0 \n",
        "\n",
        "    w -= learning_rate * gradient_w # gradient descent θ1\n",
        "    b -= learning_rate * gradient_b # gradient descent θ0\n",
        "\n",
        "    if i % 100 == 0:\n",
        "        print('Epoch ({:10d}/{:10d}) cost: {:10f}, W: {:10f}, b:{:10f}'.format(i, epochs, cost, w, b))\n",
        "\n",
        "print('W: {:10f}'.format(w))\n",
        "print('b: {:10f}'.format(b))\n",
        "print('result : ')\n",
        "print(train_x * w + b)\n"
      ],
      "execution_count": 3,
      "outputs": [
        {
          "output_type": "stream",
          "text": [
            "Epoch (         0/      3000) cost: 3444.085697, W:   0.996022, b:  0.986027\n",
            "Epoch (       100/      3000) cost: 532.322530, W:   0.678937, b:  0.392400\n",
            "Epoch (       200/      3000) cost: 286.587572, W:   0.479508, b:  0.313918\n",
            "Epoch (       300/      3000) cost: 204.964324, W:   0.353852, b:  0.303663\n",
            "Epoch (       400/      3000) cost: 172.810123, W:   0.274648, b:  0.302400\n",
            "Epoch (       500/      3000) cost: 160.037381, W:   0.224720, b:  0.302294\n",
            "Epoch (       600/      3000) cost: 154.961731, W:   0.193246, b:  0.302318\n",
            "Epoch (       700/      3000) cost: 152.944729, W:   0.173405, b:  0.302346\n",
            "Epoch (       800/      3000) cost: 152.143196, W:   0.160897, b:  0.302365\n",
            "Epoch (       900/      3000) cost: 151.824677, W:   0.153013, b:  0.302377\n",
            "Epoch (      1000/      3000) cost: 151.698101, W:   0.148043, b:  0.302384\n",
            "Epoch (      1100/      3000) cost: 151.647801, W:   0.144909, b:  0.302389\n",
            "Epoch (      1200/      3000) cost: 151.627812, W:   0.142934, b:  0.302392\n",
            "Epoch (      1300/      3000) cost: 151.619869, W:   0.141689, b:  0.302394\n",
            "Epoch (      1400/      3000) cost: 151.616713, W:   0.140904, b:  0.302395\n",
            "Epoch (      1500/      3000) cost: 151.615458, W:   0.140409, b:  0.302396\n",
            "Epoch (      1600/      3000) cost: 151.614960, W:   0.140098, b:  0.302397\n",
            "Epoch (      1700/      3000) cost: 151.614762, W:   0.139901, b:  0.302397\n",
            "Epoch (      1800/      3000) cost: 151.614683, W:   0.139777, b:  0.302397\n",
            "Epoch (      1900/      3000) cost: 151.614652, W:   0.139699, b:  0.302397\n",
            "Epoch (      2000/      3000) cost: 151.614639, W:   0.139650, b:  0.302397\n",
            "Epoch (      2100/      3000) cost: 151.614634, W:   0.139619, b:  0.302397\n",
            "Epoch (      2200/      3000) cost: 151.614632, W:   0.139599, b:  0.302397\n",
            "Epoch (      2300/      3000) cost: 151.614632, W:   0.139587, b:  0.302397\n",
            "Epoch (      2400/      3000) cost: 151.614631, W:   0.139579, b:  0.302398\n",
            "Epoch (      2500/      3000) cost: 151.614631, W:   0.139574, b:  0.302398\n",
            "Epoch (      2600/      3000) cost: 151.614631, W:   0.139571, b:  0.302398\n",
            "Epoch (      2700/      3000) cost: 151.614631, W:   0.139569, b:  0.302398\n",
            "Epoch (      2800/      3000) cost: 151.614631, W:   0.139568, b:  0.302398\n",
            "Epoch (      2900/      3000) cost: 151.614631, W:   0.139567, b:  0.302398\n",
            "W:   0.139566\n",
            "b:   0.302398\n",
            "result : \n",
            "[0.31119616 0.23103204 0.27477095 0.3114205  0.24977369 0.32034555\n",
            " 0.42549537 0.29586649 0.36919193 0.39953952 0.16146582 0.30304938\n",
            " 0.26209539 0.31209871 0.3796883  0.25716198 0.20216446 0.28947909\n",
            " 0.35988728 0.34880507 0.25400708 0.42814072 0.20354029 0.351599\n",
            " 0.4095619  0.2931829  0.34090517 0.37281408 0.31327268 0.40085875\n",
            " 0.23301621 0.24229271 0.41941409 0.31702081 0.23612119 0.33224549\n",
            " 0.31695807 0.26286168 0.28693901 0.37682724 0.35188933 0.10800815\n",
            " 0.37347668 0.30344901 0.32748775 0.36529084 0.38957143 0.25365782\n",
            " 0.34558373 0.34603861 0.31997712 0.34939397 0.31170661 0.21565531\n",
            " 0.18291712 0.38005821 0.2217935  0.37884289 0.33188781 0.30714247\n",
            " 0.28536079 0.22752756 0.39378067 0.30023548 0.23201641 0.35871709\n",
            " 0.32951039 0.22022582 0.37201966 0.38241756 0.18271126 0.34501328\n",
            " 0.31051757 0.33016424 0.35414523 0.24146971 0.36546873 0.28578802\n",
            " 0.27220641 0.31492705 0.31850807 0.37463133 0.24075432 0.24687734\n",
            " 0.28095273 0.2345794  0.22946446 0.19966318 0.34660896 0.31778314\n",
            " 0.29847383 0.2150412  0.18571511 0.31590535 0.2530736  0.3427986\n",
            " 0.38568528 0.26220876 0.3354514  0.1480572 ]\n"
          ],
          "name": "stdout"
        }
      ]
    },
    {
      "cell_type": "code",
      "metadata": {
        "id": "H85HpKU7cqyj",
        "colab_type": "code",
        "colab": {
          "base_uri": "https://localhost:8080/",
          "height": 265
        },
        "outputId": "dbc4d68c-5b9b-441d-b2f8-380b28b45af5"
      },
      "source": [
        "plt.scatter(train_x, train_y, color = \"black\")\n",
        "plt.plot(train_x, hypothesis, color = 'blue')\n",
        "plt.show()"
      ],
      "execution_count": 4,
      "outputs": [
        {
          "output_type": "display_data",
          "data": {
            "image/png": "[encoded data removed]",
            "text/plain": [
              "<Figure size 432x288 with 1 Axes>"
            ]
          },
          "metadata": {
            "tags": []
          }
        }
      ]
    },
    {
      "cell_type": "code",
      "metadata": {
        "id": "Ia3ixyAXcsUs",
        "colab_type": "code",
        "colab": {}
      },
      "source": [
        ""
      ],
      "execution_count": 0,
      "outputs": []
    }
  ]
}