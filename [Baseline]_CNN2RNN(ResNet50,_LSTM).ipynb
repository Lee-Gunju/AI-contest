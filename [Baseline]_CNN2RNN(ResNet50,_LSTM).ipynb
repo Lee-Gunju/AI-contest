{
  "nbformat": 4,
  "nbformat_minor": 0,
  "metadata": {
    "kernelspec": {
      "display_name": "eunil",
      "language": "python",
      "name": "eunil"
    },
    "language_info": {
      "codemirror_mode": {
        "name": "ipython",
        "version": 3
      },
      "file_extension": ".py",
      "mimetype": "text/x-python",
      "name": "python",
      "nbconvert_exporter": "python",
      "pygments_lexer": "ipython3",
      "version": "3.6.13"
    },
    "colab": {
      "name": "[Baseline]_CNN2RNN(ResNet50, LSTM).ipynb",
      "provenance": [],
      "collapsed_sections": [],
      "include_colab_link": true
    },
    "accelerator": "GPU",
    "widgets": {
      "application/vnd.jupyter.widget-state+json": {
        "f928417af46447158b63e08dbe0dec5c": {
          "model_module": "@jupyter-widgets/controls",
          "model_name": "HBoxModel",
          "model_module_version": "1.5.0",
          "state": {
            "_view_name": "HBoxView",
            "_dom_classes": [],
            "_model_name": "HBoxModel",
            "_view_module": "@jupyter-widgets/controls",
            "_model_module_version": "1.5.0",
            "_view_count": null,
            "_view_module_version": "1.5.0",
            "box_style": "",
            "layout": "IPY_MODEL_a5fb6b5cc34243c1af71deae8a415631",
            "_model_module": "@jupyter-widgets/controls",
            "children": [
              "IPY_MODEL_1c81fbbf277e4b808c361aa9318e1bf2",
              "IPY_MODEL_7445910e20d04a57a53fcfc9052fa503",
              "IPY_MODEL_4f5eae980a3d4862bb95e9883a49d37e"
            ]
          }
        },
        "a5fb6b5cc34243c1af71deae8a415631": {
          "model_module": "@jupyter-widgets/base",
          "model_name": "LayoutModel",
          "model_module_version": "1.2.0",
          "state": {
            "_view_name": "LayoutView",
            "grid_template_rows": null,
            "right": null,
            "justify_content": null,
            "_view_module": "@jupyter-widgets/base",
            "overflow": null,
            "_model_module_version": "1.2.0",
            "_view_count": null,
            "flex_flow": null,
            "width": null,
            "min_width": null,
            "border": null,
            "align_items": null,
            "bottom": null,
            "_model_module": "@jupyter-widgets/base",
            "top": null,
            "grid_column": null,
            "overflow_y": null,
            "overflow_x": null,
            "grid_auto_flow": null,
            "grid_area": null,
            "grid_template_columns": null,
            "flex": null,
            "_model_name": "LayoutModel",
            "justify_items": null,
            "grid_row": null,
            "max_height": null,
            "align_content": null,
            "visibility": null,
            "align_self": null,
            "height": null,
            "min_height": null,
            "padding": null,
            "grid_auto_rows": null,
            "grid_gap": null,
            "max_width": null,
            "order": null,
            "_view_module_version": "1.2.0",
            "grid_template_areas": null,
            "object_position": null,
            "object_fit": null,
            "grid_auto_columns": null,
            "margin": null,
            "display": null,
            "left": null
          }
        },
        "1c81fbbf277e4b808c361aa9318e1bf2": {
          "model_module": "@jupyter-widgets/controls",
          "model_name": "HTMLModel",
          "model_module_version": "1.5.0",
          "state": {
            "_view_name": "HTMLView",
            "style": "IPY_MODEL_49b108ebb414436f8505c31ba095ecb3",
            "_dom_classes": [],
            "description": "",
            "_model_name": "HTMLModel",
            "placeholder": "​",
            "_view_module": "@jupyter-widgets/controls",
            "_model_module_version": "1.5.0",
            "value": "100%",
            "_view_count": null,
            "_view_module_version": "1.5.0",
            "description_tooltip": null,
            "_model_module": "@jupyter-widgets/controls",
            "layout": "IPY_MODEL_6f7314eaefec476bb71c94c52e9ce3b0"
          }
        },
        "7445910e20d04a57a53fcfc9052fa503": {
          "model_module": "@jupyter-widgets/controls",
          "model_name": "FloatProgressModel",
          "model_module_version": "1.5.0",
          "state": {
            "_view_name": "ProgressView",
            "style": "IPY_MODEL_07344c30d46f494ab9bfaa5e96a554f5",
            "_dom_classes": [],
            "description": "",
            "_model_name": "FloatProgressModel",
            "bar_style": "success",
            "max": 102530333,
            "_view_module": "@jupyter-widgets/controls",
            "_model_module_version": "1.5.0",
            "value": 102530333,
            "_view_count": null,
            "_view_module_version": "1.5.0",
            "orientation": "horizontal",
            "min": 0,
            "description_tooltip": null,
            "_model_module": "@jupyter-widgets/controls",
            "layout": "IPY_MODEL_b25ad24d5b4c44ed803a6af59ada4801"
          }
        },
        "4f5eae980a3d4862bb95e9883a49d37e": {
          "model_module": "@jupyter-widgets/controls",
          "model_name": "HTMLModel",
          "model_module_version": "1.5.0",
          "state": {
            "_view_name": "HTMLView",
            "style": "IPY_MODEL_93c4c206d61d427388786275974873de",
            "_dom_classes": [],
            "description": "",
            "_model_name": "HTMLModel",
            "placeholder": "​",
            "_view_module": "@jupyter-widgets/controls",
            "_model_module_version": "1.5.0",
            "value": " 97.8M/97.8M [00:02&lt;00:00, 45.4MB/s]",
            "_view_count": null,
            "_view_module_version": "1.5.0",
            "description_tooltip": null,
            "_model_module": "@jupyter-widgets/controls",
            "layout": "IPY_MODEL_e9323219acb244a5a156ce7fddc6460f"
          }
        },
        "49b108ebb414436f8505c31ba095ecb3": {
          "model_module": "@jupyter-widgets/controls",
          "model_name": "DescriptionStyleModel",
          "model_module_version": "1.5.0",
          "state": {
            "_view_name": "StyleView",
            "_model_name": "DescriptionStyleModel",
            "description_width": "",
            "_view_module": "@jupyter-widgets/base",
            "_model_module_version": "1.5.0",
            "_view_count": null,
            "_view_module_version": "1.2.0",
            "_model_module": "@jupyter-widgets/controls"
          }
        },
        "6f7314eaefec476bb71c94c52e9ce3b0": {
          "model_module": "@jupyter-widgets/base",
          "model_name": "LayoutModel",
          "model_module_version": "1.2.0",
          "state": {
            "_view_name": "LayoutView",
            "grid_template_rows": null,
            "right": null,
            "justify_content": null,
            "_view_module": "@jupyter-widgets/base",
            "overflow": null,
            "_model_module_version": "1.2.0",
            "_view_count": null,
            "flex_flow": null,
            "width": null,
            "min_width": null,
            "border": null,
            "align_items": null,
            "bottom": null,
            "_model_module": "@jupyter-widgets/base",
            "top": null,
            "grid_column": null,
            "overflow_y": null,
            "overflow_x": null,
            "grid_auto_flow": null,
            "grid_area": null,
            "grid_template_columns": null,
            "flex": null,
            "_model_name": "LayoutModel",
            "justify_items": null,
            "grid_row": null,
            "max_height": null,
            "align_content": null,
            "visibility": null,
            "align_self": null,
            "height": null,
            "min_height": null,
            "padding": null,
            "grid_auto_rows": null,
            "grid_gap": null,
            "max_width": null,
            "order": null,
            "_view_module_version": "1.2.0",
            "grid_template_areas": null,
            "object_position": null,
            "object_fit": null,
            "grid_auto_columns": null,
            "margin": null,
            "display": null,
            "left": null
          }
        },
        "07344c30d46f494ab9bfaa5e96a554f5": {
          "model_module": "@jupyter-widgets/controls",
          "model_name": "ProgressStyleModel",
          "model_module_version": "1.5.0",
          "state": {
            "_view_name": "StyleView",
            "_model_name": "ProgressStyleModel",
            "description_width": "",
            "_view_module": "@jupyter-widgets/base",
            "_model_module_version": "1.5.0",
            "_view_count": null,
            "_view_module_version": "1.2.0",
            "bar_color": null,
            "_model_module": "@jupyter-widgets/controls"
          }
        },
        "b25ad24d5b4c44ed803a6af59ada4801": {
          "model_module": "@jupyter-widgets/base",
          "model_name": "LayoutModel",
          "model_module_version": "1.2.0",
          "state": {
            "_view_name": "LayoutView",
            "grid_template_rows": null,
            "right": null,
            "justify_content": null,
            "_view_module": "@jupyter-widgets/base",
            "overflow": null,
            "_model_module_version": "1.2.0",
            "_view_count": null,
            "flex_flow": null,
            "width": null,
            "min_width": null,
            "border": null,
            "align_items": null,
            "bottom": null,
            "_model_module": "@jupyter-widgets/base",
            "top": null,
            "grid_column": null,
            "overflow_y": null,
            "overflow_x": null,
            "grid_auto_flow": null,
            "grid_area": null,
            "grid_template_columns": null,
            "flex": null,
            "_model_name": "LayoutModel",
            "justify_items": null,
            "grid_row": null,
            "max_height": null,
            "align_content": null,
            "visibility": null,
            "align_self": null,
            "height": null,
            "min_height": null,
            "padding": null,
            "grid_auto_rows": null,
            "grid_gap": null,
            "max_width": null,
            "order": null,
            "_view_module_version": "1.2.0",
            "grid_template_areas": null,
            "object_position": null,
            "object_fit": null,
            "grid_auto_columns": null,
            "margin": null,
            "display": null,
            "left": null
          }
        },
        "93c4c206d61d427388786275974873de": {
          "model_module": "@jupyter-widgets/controls",
          "model_name": "DescriptionStyleModel",
          "model_module_version": "1.5.0",
          "state": {
            "_view_name": "StyleView",
            "_model_name": "DescriptionStyleModel",
            "description_width": "",
            "_view_module": "@jupyter-widgets/base",
            "_model_module_version": "1.5.0",
            "_view_count": null,
            "_view_module_version": "1.2.0",
            "_model_module": "@jupyter-widgets/controls"
          }
        },
        "e9323219acb244a5a156ce7fddc6460f": {
          "model_module": "@jupyter-widgets/base",
          "model_name": "LayoutModel",
          "model_module_version": "1.2.0",
          "state": {
            "_view_name": "LayoutView",
            "grid_template_rows": null,
            "right": null,
            "justify_content": null,
            "_view_module": "@jupyter-widgets/base",
            "overflow": null,
            "_model_module_version": "1.2.0",
            "_view_count": null,
            "flex_flow": null,
            "width": null,
            "min_width": null,
            "border": null,
            "align_items": null,
            "bottom": null,
            "_model_module": "@jupyter-widgets/base",
            "top": null,
            "grid_column": null,
            "overflow_y": null,
            "overflow_x": null,
            "grid_auto_flow": null,
            "grid_area": null,
            "grid_template_columns": null,
            "flex": null,
            "_model_name": "LayoutModel",
            "justify_items": null,
            "grid_row": null,
            "max_height": null,
            "align_content": null,
            "visibility": null,
            "align_self": null,
            "height": null,
            "min_height": null,
            "padding": null,
            "grid_auto_rows": null,
            "grid_gap": null,
            "max_width": null,
            "order": null,
            "_view_module_version": "1.2.0",
            "grid_template_areas": null,
            "object_position": null,
            "object_fit": null,
            "grid_auto_columns": null,
            "margin": null,
            "display": null,
            "left": null
          }
        }
      }
    }
  },
  "cells": [
    {
      "cell_type": "markdown",
      "metadata": {
        "id": "view-in-github",
        "colab_type": "text"
      },
      "source": [
        "<a href=\"https://colab.research.google.com/github/Lee-Gunju/Lee-Gunju/blob/master/%5BBaseline%5D_CNN2RNN(ResNet50%2C_LSTM).ipynb\" target=\"_parent\"><img src=\"https://colab.research.google.com/assets/colab-badge.svg\" alt=\"Open In Colab\"/></a>"
      ]
    },
    {
      "cell_type": "markdown",
      "metadata": {
        "id": "riVHWobh9EGm"
      },
      "source": [
        "baseline.ipynb <br>\n",
        ".. ├ models <br>\n",
        ".. └ data <br>\n",
        ".... ├ train_sdf <br>\n",
        ".... ├ dev_sdf <br>\n",
        ".... ├ test_sdf <br>\n",
        ".... ├ train_imgs <br>\n",
        ".... ├ test_imgs <br>\n",
        ".... ├ sample_train.csv <br>\n",
        ".... ├ sample_test.csv <br>\n",
        ".... └ sample_submission.csv <br>"
      ]
    },
    {
      "cell_type": "markdown",
      "metadata": {
        "id": "unz1pLbT9EGq"
      },
      "source": [
        "## 사용 패키지"
      ]
    },
    {
      "cell_type": "code",
      "metadata": {
        "colab": {
          "base_uri": "https://localhost:8080/"
        },
        "id": "dsFaW3iT9JIg",
        "outputId": "ff662c5a-178d-4fb4-d588-60e6cbd3e887"
      },
      "source": [
        "pip install rdkit-pypi\n"
      ],
      "execution_count": 1,
      "outputs": [
        {
          "output_type": "stream",
          "text": [
            "Collecting rdkit-pypi\n",
            "  Downloading rdkit_pypi-2021.3.4-cp37-cp37m-manylinux2014_x86_64.whl (18.6 MB)\n",
            "\u001b[K     |████████████████████████████████| 18.6 MB 153 kB/s \n",
            "\u001b[?25hRequirement already satisfied: numpy>=1.19 in /usr/local/lib/python3.7/dist-packages (from rdkit-pypi) (1.19.5)\n",
            "Installing collected packages: rdkit-pypi\n",
            "Successfully installed rdkit-pypi-2021.3.4\n"
          ],
          "name": "stdout"
        }
      ]
    },
    {
      "cell_type": "code",
      "metadata": {
        "colab": {
          "base_uri": "https://localhost:8080/"
        },
        "id": "GvTPHS3h_Uad",
        "outputId": "def5da27-afe6-4ce8-a907-9e5ed047b30a"
      },
      "source": [
        "pip install rdkit"
      ],
      "execution_count": 2,
      "outputs": [
        {
          "output_type": "stream",
          "text": [
            "\u001b[31mERROR: Could not find a version that satisfies the requirement rdkit (from versions: none)\u001b[0m\n",
            "\u001b[31mERROR: No matching distribution found for rdkit\u001b[0m\n"
          ],
          "name": "stdout"
        }
      ]
    },
    {
      "cell_type": "code",
      "metadata": {
        "id": "6opPu4z_p_wb"
      },
      "source": [
        "import numpy as np\n",
        "import pandas as pd\n",
        "import matplotlib.pyplot as plt\n",
        "import cv2\n",
        "import rdkit\n",
        "from rdkit import Chem\n",
        "from rdkit.Chem import Draw\n",
        "from rdkit import RDLogger\n",
        "RDLogger.DisableLog('rdApp.*')\n",
        "from tqdm import tqdm\n",
        "\n",
        "import torch\n",
        "from torch import nn\n",
        "from torchvision import models\n",
        "from torch.utils.data import Dataset, DataLoader\n",
        "\n",
        "import gdown\n",
        "import re\n",
        "import zipfile\n"
      ],
      "execution_count": 3,
      "outputs": []
    },
    {
      "cell_type": "code",
      "metadata": {
        "colab": {
          "base_uri": "https://localhost:8080/"
        },
        "id": "V-iY8_Gx9EGs",
        "outputId": "70b60a7b-0656-4207-8250-dd136166acff"
      },
      "source": [
        "print('numpy verison :', np.__version__)\n",
        "print('pandas version :', pd.__version__)\n",
        "print('opencv version :', cv2.__version__)\n",
        "print('rdkit version :', rdkit.__version__)\n",
        "print('torch version :', torch.__version__)"
      ],
      "execution_count": 4,
      "outputs": [
        {
          "output_type": "stream",
          "text": [
            "numpy verison : 1.19.5\n",
            "pandas version : 1.1.5\n",
            "opencv version : 4.1.2\n",
            "rdkit version : 2021.03.4\n",
            "torch version : 1.9.0+cu102\n"
          ],
          "name": "stdout"
        }
      ]
    },
    {
      "cell_type": "markdown",
      "metadata": {
        "id": "AbxZAVBo9EGt"
      },
      "source": [
        "## 데이터 로드"
      ]
    },
    {
      "cell_type": "code",
      "metadata": {
        "id": "sKonRkYK_hER"
      },
      "source": [
        "url = \"https://drive.google.com/u/0/uc?export=download&confirm=ynH9&id=1WcW8SbDvkEwtoMR1pOrYeWNa62uYEm9z\""
      ],
      "execution_count": 5,
      "outputs": []
    },
    {
      "cell_type": "code",
      "metadata": {
        "colab": {
          "base_uri": "https://localhost:8080/"
        },
        "id": "GPbEGPLy_vHw",
        "outputId": "8445b979-0029-46d8-a91c-e1207f8800cf"
      },
      "source": [
        "## data download 받고(gdown.download 사용) 압축 풀기\n",
        "gdown.download(url, 'data.zip', quiet=False)\n",
        "\n",
        "with zipfile.ZipFile('data.zip', 'r') as z_fp:\n",
        "  z_fp.extractall('./data')"
      ],
      "execution_count": 6,
      "outputs": [
        {
          "output_type": "stream",
          "text": [
            "Downloading...\n",
            "From: https://drive.google.com/u/0/uc?export=download&confirm=ynH9&id=1WcW8SbDvkEwtoMR1pOrYeWNa62uYEm9z\n",
            "To: /content/data.zip\n",
            "32.0MB [00:00, 44.5MB/s]\n"
          ],
          "name": "stderr"
        }
      ]
    },
    {
      "cell_type": "code",
      "metadata": {
        "id": "7WZfRhyfp_wd"
      },
      "source": [
        "train = pd.read_csv('./data/train.csv')\n",
        "dev = pd.read_csv('./data/dev.csv')"
      ],
      "execution_count": 7,
      "outputs": []
    },
    {
      "cell_type": "code",
      "metadata": {
        "colab": {
          "base_uri": "https://localhost:8080/",
          "height": 204
        },
        "id": "X5msQrpxp_we",
        "outputId": "5724e975-c0cd-4bf1-ea62-c17db06622ed"
      },
      "source": [
        "train.head()"
      ],
      "execution_count": 8,
      "outputs": [
        {
          "output_type": "execute_result",
          "data": {
            "text/html": [
              "<div>\n",
              "<style scoped>\n",
              "    .dataframe tbody tr th:only-of-type {\n",
              "        vertical-align: middle;\n",
              "    }\n",
              "\n",
              "    .dataframe tbody tr th {\n",
              "        vertical-align: top;\n",
              "    }\n",
              "\n",
              "    .dataframe thead th {\n",
              "        text-align: right;\n",
              "    }\n",
              "</style>\n",
              "<table border=\"1\" class=\"dataframe\">\n",
              "  <thead>\n",
              "    <tr style=\"text-align: right;\">\n",
              "      <th></th>\n",
              "      <th>uid</th>\n",
              "      <th>SMILES</th>\n",
              "      <th>S1_energy(eV)</th>\n",
              "      <th>T1_energy(eV)</th>\n",
              "    </tr>\n",
              "  </thead>\n",
              "  <tbody>\n",
              "    <tr>\n",
              "      <th>0</th>\n",
              "      <td>train_0</td>\n",
              "      <td>CCC1CCCCN1C(=O)C(C)OC(=O)c1c(C)oc(-n2cccc2)c1C#N</td>\n",
              "      <td>4.6747</td>\n",
              "      <td>3.3809</td>\n",
              "    </tr>\n",
              "    <tr>\n",
              "      <th>1</th>\n",
              "      <td>train_1</td>\n",
              "      <td>COc1ccc(Oc2ccc(N3C(=S)NC(c4ccccn4)C3c3cc(C)n(-...</td>\n",
              "      <td>3.6617</td>\n",
              "      <td>3.4585</td>\n",
              "    </tr>\n",
              "    <tr>\n",
              "      <th>2</th>\n",
              "      <td>train_2</td>\n",
              "      <td>CC(=O)Nc1ccc(C(=O)[C@H](C)Sc2nnc(C3CCCCC3)o2)cc1</td>\n",
              "      <td>3.6420</td>\n",
              "      <td>3.1787</td>\n",
              "    </tr>\n",
              "    <tr>\n",
              "      <th>3</th>\n",
              "      <td>train_3</td>\n",
              "      <td>OC(CNC1CC1)CN1CCc2sccc2C1</td>\n",
              "      <td>4.8901</td>\n",
              "      <td>3.7847</td>\n",
              "    </tr>\n",
              "    <tr>\n",
              "      <th>4</th>\n",
              "      <td>train_4</td>\n",
              "      <td>CCNC(CCCC(F)(F)F)C1(OCC)CCOCC1</td>\n",
              "      <td>6.4967</td>\n",
              "      <td>6.2724</td>\n",
              "    </tr>\n",
              "  </tbody>\n",
              "</table>\n",
              "</div>"
            ],
            "text/plain": [
              "       uid  ... T1_energy(eV)\n",
              "0  train_0  ...        3.3809\n",
              "1  train_1  ...        3.4585\n",
              "2  train_2  ...        3.1787\n",
              "3  train_3  ...        3.7847\n",
              "4  train_4  ...        6.2724\n",
              "\n",
              "[5 rows x 4 columns]"
            ]
          },
          "metadata": {
            "tags": []
          },
          "execution_count": 8
        }
      ]
    },
    {
      "cell_type": "code",
      "metadata": {
        "colab": {
          "base_uri": "https://localhost:8080/",
          "height": 204
        },
        "id": "a6TS_wCa9EGw",
        "outputId": "5f8ec140-4295-4c00-b576-80db10edc9ec"
      },
      "source": [
        "dev.head()"
      ],
      "execution_count": 9,
      "outputs": [
        {
          "output_type": "execute_result",
          "data": {
            "text/html": [
              "<div>\n",
              "<style scoped>\n",
              "    .dataframe tbody tr th:only-of-type {\n",
              "        vertical-align: middle;\n",
              "    }\n",
              "\n",
              "    .dataframe tbody tr th {\n",
              "        vertical-align: top;\n",
              "    }\n",
              "\n",
              "    .dataframe thead th {\n",
              "        text-align: right;\n",
              "    }\n",
              "</style>\n",
              "<table border=\"1\" class=\"dataframe\">\n",
              "  <thead>\n",
              "    <tr style=\"text-align: right;\">\n",
              "      <th></th>\n",
              "      <th>uid</th>\n",
              "      <th>SMILES</th>\n",
              "      <th>S1_energy(eV)</th>\n",
              "      <th>T1_energy(eV)</th>\n",
              "    </tr>\n",
              "  </thead>\n",
              "  <tbody>\n",
              "    <tr>\n",
              "      <th>0</th>\n",
              "      <td>dev_0</td>\n",
              "      <td>O=C1c2ccccc2C2(c3ccccc31)c1ccccc1N(c1ccc(-c3nc...</td>\n",
              "      <td>2.7609</td>\n",
              "      <td>2.7540</td>\n",
              "    </tr>\n",
              "    <tr>\n",
              "      <th>1</th>\n",
              "      <td>dev_1</td>\n",
              "      <td>Cc1cccc2c3ccccc3n(-c3ccc(-c4c(-c5ccccc5)c(C#N)...</td>\n",
              "      <td>3.0495</td>\n",
              "      <td>3.0163</td>\n",
              "    </tr>\n",
              "    <tr>\n",
              "      <th>2</th>\n",
              "      <td>dev_2</td>\n",
              "      <td>CC1(C)c2ccccc2-c2ccc(-c3c(F)c(F)c(-c4ccc5c(c4)...</td>\n",
              "      <td>2.8314</td>\n",
              "      <td>2.1412</td>\n",
              "    </tr>\n",
              "    <tr>\n",
              "      <th>3</th>\n",
              "      <td>dev_3</td>\n",
              "      <td>CC(C)(C)c1ccc2c(c1)B1c3cc(C(C)(C)C)ccc3Oc3cc(-...</td>\n",
              "      <td>3.1813</td>\n",
              "      <td>2.9424</td>\n",
              "    </tr>\n",
              "    <tr>\n",
              "      <th>4</th>\n",
              "      <td>dev_4</td>\n",
              "      <td>O=C1c2cc(-c3ccc4c(c3)c3ccccc3n4-c3ccccc3)ccc2S...</td>\n",
              "      <td>2.9559</td>\n",
              "      <td>2.7362</td>\n",
              "    </tr>\n",
              "  </tbody>\n",
              "</table>\n",
              "</div>"
            ],
            "text/plain": [
              "     uid  ... T1_energy(eV)\n",
              "0  dev_0  ...        2.7540\n",
              "1  dev_1  ...        3.0163\n",
              "2  dev_2  ...        2.1412\n",
              "3  dev_3  ...        2.9424\n",
              "4  dev_4  ...        2.7362\n",
              "\n",
              "[5 rows x 4 columns]"
            ]
          },
          "metadata": {
            "tags": []
          },
          "execution_count": 9
        }
      ]
    },
    {
      "cell_type": "code",
      "metadata": {
        "id": "og1O5Xsi9EGx"
      },
      "source": [
        "train = pd.concat([train, dev])"
      ],
      "execution_count": 10,
      "outputs": []
    },
    {
      "cell_type": "code",
      "metadata": {
        "colab": {
          "base_uri": "https://localhost:8080/",
          "height": 265
        },
        "id": "t7K7Sfa7p_we",
        "outputId": "537834b9-9711-464d-c740-7c61aee5311d"
      },
      "source": [
        "train['S1_energy(eV)'].hist(bins=100, alpha=0.5)\n",
        "train['T1_energy(eV)'].hist(bins=100, alpha=0.5)\n",
        "plt.show()"
      ],
      "execution_count": 11,
      "outputs": [
        {
          "output_type": "display_data",
          "data": {
            "image/png": "[encoded data removed]",
            "text/plain": [
              "<Figure size 432x288 with 1 Axes>"
            ]
          },
          "metadata": {
            "tags": [],
            "needs_background": "light"
          }
        }
      ]
    },
    {
      "cell_type": "markdown",
      "metadata": {
        "id": "HnAegtvV9EGy"
      },
      "source": [
        "## 데이터 전처리\n",
        "\n",
        "분자의 구조적 특성을 찾기 위해 SMILES와 분자구조 이미지를 사용하였습니다."
      ]
    },
    {
      "cell_type": "code",
      "metadata": {
        "colab": {
          "base_uri": "https://localhost:8080/"
        },
        "id": "95kLFbx9CgP7",
        "outputId": "8870e8b6-de64-491c-d582-afdbaae9efbc"
      },
      "source": [
        "! dir\n",
        "#path = \"data/train_imgs\"\n",
        "!mkdir \"data/train_imgs\"\n"
      ],
      "execution_count": 12,
      "outputs": [
        {
          "output_type": "stream",
          "text": [
            "data  data.zip\tsample_data\n"
          ],
          "name": "stdout"
        }
      ]
    },
    {
      "cell_type": "code",
      "metadata": {
        "id": "9xl8YBTep_we",
        "colab": {
          "base_uri": "https://localhost:8080/"
        },
        "outputId": "622cd951-55a0-4615-a24b-eba6c3331257"
      },
      "source": [
        "for idx, row in tqdm(train.iterrows()):\n",
        "    file = row['uid']\n",
        "    smiles = row['SMILES']\n",
        "    m = Chem.MolFromSmiles(smiles)\n",
        "    if m != None:\n",
        "        img = Draw.MolToImage(m, size=(300,300))\n",
        "        img.save(f'data/train_imgs/{file}.png')"
      ],
      "execution_count": 13,
      "outputs": [
        {
          "output_type": "stream",
          "text": [
            "30345it [06:06, 82.87it/s]\n"
          ],
          "name": "stderr"
        }
      ]
    },
    {
      "cell_type": "code",
      "metadata": {
        "colab": {
          "base_uri": "https://localhost:8080/",
          "height": 269
        },
        "id": "btBeMRbY9EGz",
        "outputId": "5fadc061-0d70-401e-d30e-8f2869e3b51f"
      },
      "source": [
        "sample_img = cv2.imread('./data/train_imgs/dev_0.png')\n",
        "plt.imshow(sample_img)\n",
        "plt.show()"
      ],
      "execution_count": 14,
      "outputs": [
        {
          "output_type": "display_data",
          "data": {
            "image/png": "[encoded data removed]",
            "text/plain": [
              "<Figure size 432x288 with 1 Axes>"
            ]
          },
          "metadata": {
            "tags": [],
            "needs_background": "light"
          }
        }
      ]
    },
    {
      "cell_type": "markdown",
      "metadata": {
        "id": "7jTLcHn49EGz"
      },
      "source": [
        "## 하이퍼파라미터"
      ]
    },
    {
      "cell_type": "code",
      "metadata": {
        "id": "mBCHZd0Gp_wg"
      },
      "source": [
        "device = torch.device(\"cuda:0\")\n",
        "BATCH_SIZE = 64\n",
        "EPOCHS = 25\n",
        "num_layers = 1\n",
        "dropout_rate = 0.1\n",
        "embedding_dim = 128\n",
        "learning_rate = 1e-4\n",
        "vision_pretrain = True\n",
        "save_path = f'./models/best_model.pt'"
      ],
      "execution_count": 15,
      "outputs": []
    },
    {
      "cell_type": "markdown",
      "metadata": {
        "id": "tu3LDCJV9EG0"
      },
      "source": [
        "## SMILES Tokenizing"
      ]
    },
    {
      "cell_type": "code",
      "metadata": {
        "id": "XP7FhxPLp_wf"
      },
      "source": [
        "class SMILES_Tokenizer():\n",
        "    def __init__(self, max_length):\n",
        "        self.txt2idx = {}\n",
        "        self.idx2txt = {}\n",
        "        self.max_length = max_length\n",
        "    \n",
        "    def fit(self, SMILES_list):\n",
        "        unique_char = set()\n",
        "        for smiles in SMILES_list:\n",
        "            for char in smiles:\n",
        "                unique_char.add(char)\n",
        "        unique_char = sorted(list(unique_char))\n",
        "        for i, char in enumerate(unique_char):\n",
        "            self.txt2idx[char]=i+2\n",
        "            self.idx2txt[i+2]=char\n",
        "            \n",
        "    def txt2seq(self, texts):\n",
        "        seqs = []\n",
        "        for text in tqdm(texts):\n",
        "            seq = [0]*self.max_length\n",
        "            for i, t in enumerate(text):\n",
        "                if i == self.max_length:\n",
        "                    break\n",
        "                try:\n",
        "                    seq[i] = self.txt2idx[t]\n",
        "                except:\n",
        "                    seq[i] = 1\n",
        "            seqs.append(seq)\n",
        "        return np.array(seqs)"
      ],
      "execution_count": 16,
      "outputs": []
    },
    {
      "cell_type": "code",
      "metadata": {
        "colab": {
          "base_uri": "https://localhost:8080/"
        },
        "id": "Aj9oVC7Xp_wf",
        "outputId": "68da1e63-0814-49e0-d0f1-ed27a080f28e"
      },
      "source": [
        "max_len = train.SMILES.str.len().max()\n",
        "max_len"
      ],
      "execution_count": 17,
      "outputs": [
        {
          "output_type": "execute_result",
          "data": {
            "text/plain": [
              "265"
            ]
          },
          "metadata": {
            "tags": []
          },
          "execution_count": 17
        }
      ]
    },
    {
      "cell_type": "code",
      "metadata": {
        "id": "Xvo009bgp_wf"
      },
      "source": [
        "tokenizer = SMILES_Tokenizer(max_len)\n",
        "tokenizer.fit(train.SMILES)"
      ],
      "execution_count": 18,
      "outputs": []
    },
    {
      "cell_type": "code",
      "metadata": {
        "colab": {
          "base_uri": "https://localhost:8080/"
        },
        "id": "0eXBj0YWFdxQ",
        "outputId": "5da880a1-6ba0-4917-e10c-66476ce7e67a"
      },
      "source": [
        "train.SMILES"
      ],
      "execution_count": 19,
      "outputs": [
        {
          "output_type": "execute_result",
          "data": {
            "text/plain": [
              "0      CCC1CCCCN1C(=O)C(C)OC(=O)c1c(C)oc(-n2cccc2)c1C#N\n",
              "1     COc1ccc(Oc2ccc(N3C(=S)NC(c4ccccn4)C3c3cc(C)n(-...\n",
              "2      CC(=O)Nc1ccc(C(=O)[C@H](C)Sc2nnc(C3CCCCC3)o2)cc1\n",
              "3                             OC(CNC1CC1)CN1CCc2sccc2C1\n",
              "4                        CCNC(CCCC(F)(F)F)C1(OCC)CCOCC1\n",
              "                            ...                        \n",
              "66    N#Cc1cc(-c2ccc(N3c4ccccc4Oc4ccccc43)cc2)c(-c2c...\n",
              "67    CC1(C)c2ccccc2N(c2ccc(-c3nc4ccc(N5c6ccccc6C(C)...\n",
              "68    Cc1cc(-n2c3ccc(C(C)(C)C)cc3c3cc(C(C)(C)C)ccc32...\n",
              "69    Cc1cc(-n2c3ccccc3c3ccccc32)cc(C)c1B1c2ccccc2B(...\n",
              "70    CC(C)(C)c1ccc2c(c1)c1cc(C(C)(C)C)ccc1n2-c1c(Cl...\n",
              "Name: SMILES, Length: 30345, dtype: object"
            ]
          },
          "metadata": {
            "tags": []
          },
          "execution_count": 19
        }
      ]
    },
    {
      "cell_type": "code",
      "metadata": {
        "colab": {
          "base_uri": "https://localhost:8080/"
        },
        "id": "v8TdltRhp_wf",
        "outputId": "3197c80b-3a09-4760-fbec-7be4cdacf3b4"
      },
      "source": [
        "seqs = tokenizer.txt2seq(train.SMILES)\n",
        "labels = train[['S1_energy(eV)', 'T1_energy(eV)']].to_numpy()\n",
        "imgs = ('./data/train_imgs/'+train.uid+'.png').to_numpy()"
      ],
      "execution_count": 20,
      "outputs": [
        {
          "output_type": "stream",
          "text": [
            "100%|██████████| 30345/30345 [00:00<00:00, 67171.64it/s]\n"
          ],
          "name": "stderr"
        }
      ]
    },
    {
      "cell_type": "markdown",
      "metadata": {
        "id": "DjvXN-Z29EG1"
      },
      "source": [
        "## 학습 데이터셋"
      ]
    },
    {
      "cell_type": "code",
      "metadata": {
        "id": "DxosU_4Kp_wg"
      },
      "source": [
        "from sklearn.utils import shuffle\n",
        "imgs, seqs, labels = shuffle(imgs, seqs, labels, random_state=42)"
      ],
      "execution_count": 21,
      "outputs": []
    },
    {
      "cell_type": "code",
      "metadata": {
        "id": "zuO0XB0Kp_wg"
      },
      "source": [
        "train_imgs = imgs[:27000]\n",
        "train_seqs = seqs[:27000]\n",
        "train_labels = labels[:27000]\n",
        "val_imgs = imgs[27000:]\n",
        "val_seqs = seqs[27000:]\n",
        "val_labels = labels[27000:]"
      ],
      "execution_count": 22,
      "outputs": []
    },
    {
      "cell_type": "code",
      "metadata": {
        "colab": {
          "base_uri": "https://localhost:8080/"
        },
        "id": "4LFsNDNAp_wg",
        "outputId": "8bd8d8df-b32e-42b9-f080-4c243ea6cb40"
      },
      "source": [
        "train_imgs.shape, train_seqs.shape, train_labels.shape, val_imgs.shape, val_seqs.shape, val_labels.shape"
      ],
      "execution_count": 23,
      "outputs": [
        {
          "output_type": "execute_result",
          "data": {
            "text/plain": [
              "((27000,), (27000, 265), (27000, 2), (3345,), (3345, 265), (3345, 2))"
            ]
          },
          "metadata": {
            "tags": []
          },
          "execution_count": 23
        }
      ]
    },
    {
      "cell_type": "code",
      "metadata": {
        "id": "Ir5slCDRp_wg"
      },
      "source": [
        "class CustomDataset(Dataset):\n",
        "    def __init__(self, imgs, seqs, labels=None, mode='train'):\n",
        "        self.mode = mode\n",
        "        self.imgs = imgs\n",
        "        self.seqs = seqs\n",
        "        if self.mode=='train':\n",
        "            self.labels = labels\n",
        "            \n",
        "    def __len__(self):\n",
        "        return len(self.imgs)\n",
        "    \n",
        "    def __getitem__(self, i):\n",
        "        img = cv2.imread(self.imgs[i]).astype(np.float32)/255\n",
        "        img = np.transpose(img, (2,0,1))\n",
        "        if self.mode == 'train':\n",
        "            return {\n",
        "                'img' : torch.tensor(img, dtype=torch.float32),\n",
        "                'seq' : torch.tensor(self.seqs[i], dtype=torch.long),\n",
        "                'label' : torch.tensor(self.labels[i], dtype=torch.float32)\n",
        "            }\n",
        "        else:\n",
        "            return {\n",
        "                'img' : torch.tensor(img, dtype=torch.float32),\n",
        "                'seq' : torch.tensor(self.seqs[i], dtype=torch.long),\n",
        "            }"
      ],
      "execution_count": 24,
      "outputs": []
    },
    {
      "cell_type": "code",
      "metadata": {
        "id": "GJfwH3Cop_wh",
        "colab": {
          "base_uri": "https://localhost:8080/"
        },
        "outputId": "09ba8724-0040-49d5-a6bc-02a338e90de8"
      },
      "source": [
        "train_dataset = CustomDataset(train_imgs, train_seqs, train_labels)\n",
        "val_dataset = CustomDataset(val_imgs, val_seqs, val_labels)\n",
        "\n",
        "train_dataloader = torch.utils.data.DataLoader(train_dataset, batch_size=BATCH_SIZE, num_workers=16, shuffle=True)\n",
        "val_dataloader = torch.utils.data.DataLoader(val_dataset, batch_size=BATCH_SIZE, num_workers=16, shuffle=True)"
      ],
      "execution_count": 25,
      "outputs": [
        {
          "output_type": "stream",
          "text": [
            "/usr/local/lib/python3.7/dist-packages/torch/utils/data/dataloader.py:481: UserWarning: This DataLoader will create 16 worker processes in total. Our suggested max number of worker in current system is 2, which is smaller than what this DataLoader is going to create. Please be aware that excessive worker creation might get DataLoader running slow or even freeze, lower the worker number to avoid potential slowness/freeze if necessary.\n",
            "  cpuset_checked))\n"
          ],
          "name": "stderr"
        }
      ]
    },
    {
      "cell_type": "code",
      "metadata": {
        "id": "PmG7KpwYp_wh",
        "colab": {
          "base_uri": "https://localhost:8080/"
        },
        "outputId": "cceb5541-78e6-484a-bb8f-88c067e6d456"
      },
      "source": [
        "sample_batch = next(iter(train_dataloader))"
      ],
      "execution_count": 26,
      "outputs": [
        {
          "output_type": "stream",
          "text": [
            "/usr/local/lib/python3.7/dist-packages/torch/utils/data/dataloader.py:481: UserWarning: This DataLoader will create 16 worker processes in total. Our suggested max number of worker in current system is 2, which is smaller than what this DataLoader is going to create. Please be aware that excessive worker creation might get DataLoader running slow or even freeze, lower the worker number to avoid potential slowness/freeze if necessary.\n",
            "  cpuset_checked))\n"
          ],
          "name": "stderr"
        }
      ]
    },
    {
      "cell_type": "code",
      "metadata": {
        "colab": {
          "base_uri": "https://localhost:8080/"
        },
        "id": "UBvSNtEop_wh",
        "outputId": "146cb3a8-8e72-4d16-a306-0c679146ce0a"
      },
      "source": [
        "sample_batch['img'].size(), sample_batch['seq'].size(), sample_batch['label'].size()"
      ],
      "execution_count": 27,
      "outputs": [
        {
          "output_type": "execute_result",
          "data": {
            "text/plain": [
              "(torch.Size([64, 3, 300, 300]), torch.Size([64, 265]), torch.Size([64, 2]))"
            ]
          },
          "metadata": {
            "tags": []
          },
          "execution_count": 27
        }
      ]
    },
    {
      "cell_type": "code",
      "metadata": {
        "colab": {
          "base_uri": "https://localhost:8080/"
        },
        "id": "laCaLggBp_wh",
        "outputId": "8b5f6902-5558-4d83-c2cc-f41f2fe40a1c"
      },
      "source": [
        "sample_batch['img'].dtype, sample_batch['seq'].dtype, sample_batch['label'].dtype"
      ],
      "execution_count": 28,
      "outputs": [
        {
          "output_type": "execute_result",
          "data": {
            "text/plain": [
              "(torch.float32, torch.int64, torch.float32)"
            ]
          },
          "metadata": {
            "tags": []
          },
          "execution_count": 28
        }
      ]
    },
    {
      "cell_type": "markdown",
      "metadata": {
        "id": "LPizS7yv9EG4"
      },
      "source": [
        "## 모델\n",
        "\n",
        "ResNet50에 LSTM을 연결한 CNN2RNN 모델"
      ]
    },
    {
      "cell_type": "code",
      "metadata": {
        "id": "RkRtgOde9EG4"
      },
      "source": [
        "class CNN_Encoder(nn.Module):\n",
        "    def __init__(self, embedding_dim, rate):\n",
        "        super(CNN_Encoder, self).__init__()\n",
        "        model = models.resnet50(pretrained=vision_pretrain)\n",
        "        modules = list(model.children())[:-2]\n",
        "        self.feature_extract_model = nn.Sequential(*modules)\n",
        "        self.dropout1 = nn.Dropout(rate)\n",
        "        self.fc = nn.Linear(2048, embedding_dim)\n",
        "        self.dropout2 = nn.Dropout(rate)\n",
        "        \n",
        "    def forward(self, x):\n",
        "        x = self.feature_extract_model(x)\n",
        "        x = x.permute(0,2,3,1)\n",
        "        x = x.view(x.size(0), -1, x.size(3))\n",
        "        x = self.dropout1(x)\n",
        "        x = nn.ReLU()(self.fc(x))\n",
        "        x = self.dropout2(x)\n",
        "        return x"
      ],
      "execution_count": 29,
      "outputs": []
    },
    {
      "cell_type": "code",
      "metadata": {
        "id": "vhTkd-DI9EG4"
      },
      "source": [
        "class RNN_Decoder(nn.Module):\n",
        "    def __init__(self, max_len, embedding_dim, num_layers, rate):\n",
        "        super(RNN_Decoder, self).__init__()\n",
        "        self.embedding = nn.Embedding(max_len, embedding_dim)\n",
        "        self.dropout = nn.Dropout(rate)\n",
        "        self.lstm = nn.LSTM(embedding_dim, embedding_dim, num_layers)\n",
        "        self.final_layer = nn.Linear((max_len+100)*embedding_dim, 2)\n",
        "\n",
        "    def forward(self, enc_out, dec_inp):\n",
        "        embedded = self.embedding(dec_inp)\n",
        "        embedded = self.dropout(embedded)\n",
        "        embedded = torch.cat([enc_out, embedded], dim=1)\n",
        "        hidden, _ = self.lstm(embedded)\n",
        "        hidden = hidden.view(hidden.size(0), -1)\n",
        "        output = nn.ReLU()(self.final_layer(hidden))\n",
        "        return output"
      ],
      "execution_count": 30,
      "outputs": []
    },
    {
      "cell_type": "code",
      "metadata": {
        "id": "XnXSZ7G89EG5"
      },
      "source": [
        "class CNN2RNN(nn.Module):\n",
        "    def __init__(self, embedding_dim, max_len, num_layers, rate):\n",
        "        super(CNN2RNN, self).__init__()\n",
        "        self.cnn = CNN_Encoder(embedding_dim, rate)\n",
        "        self.rnn = RNN_Decoder(max_len, embedding_dim, num_layers, rate)\n",
        "        \n",
        "    def forward(self, img, seq):\n",
        "        cnn_output = self.cnn(img)\n",
        "        output = self.rnn(cnn_output, seq)\n",
        "        \n",
        "        return output"
      ],
      "execution_count": 31,
      "outputs": []
    },
    {
      "cell_type": "code",
      "metadata": {
        "colab": {
          "base_uri": "https://localhost:8080/",
          "height": 67,
          "referenced_widgets": [
            "f928417af46447158b63e08dbe0dec5c",
            "a5fb6b5cc34243c1af71deae8a415631",
            "1c81fbbf277e4b808c361aa9318e1bf2",
            "7445910e20d04a57a53fcfc9052fa503",
            "4f5eae980a3d4862bb95e9883a49d37e",
            "49b108ebb414436f8505c31ba095ecb3",
            "6f7314eaefec476bb71c94c52e9ce3b0",
            "07344c30d46f494ab9bfaa5e96a554f5",
            "b25ad24d5b4c44ed803a6af59ada4801",
            "93c4c206d61d427388786275974873de",
            "e9323219acb244a5a156ce7fddc6460f"
          ]
        },
        "id": "hOey2UmZ9EG5",
        "outputId": "06c19a96-de74-4f7e-9ffa-faae08e0c2de"
      },
      "source": [
        "model = CNN2RNN(embedding_dim=embedding_dim, max_len=max_len, num_layers=num_layers, rate=dropout_rate)\n",
        "model = model.to(device)"
      ],
      "execution_count": 32,
      "outputs": [
        {
          "output_type": "stream",
          "text": [
            "Downloading: \"https://download.pytorch.org/models/resnet50-0676ba61.pth\" to /root/.cache/torch/hub/checkpoints/resnet50-0676ba61.pth\n"
          ],
          "name": "stderr"
        },
        {
          "output_type": "display_data",
          "data": {
            "application/vnd.jupyter.widget-view+json": {
              "model_id": "f928417af46447158b63e08dbe0dec5c",
              "version_minor": 0,
              "version_major": 2
            },
            "text/plain": [
              "  0%|          | 0.00/97.8M [00:00<?, ?B/s]"
            ]
          },
          "metadata": {
            "tags": []
          }
        }
      ]
    },
    {
      "cell_type": "markdown",
      "metadata": {
        "id": "uXzLXrGL9EG5"
      },
      "source": [
        "## 학습 정의"
      ]
    },
    {
      "cell_type": "code",
      "metadata": {
        "id": "5C_GVYbcp_wl"
      },
      "source": [
        "optimizer = torch.optim.Adam(model.parameters(), lr=learning_rate)\n",
        "criterion = nn.L1Loss()"
      ],
      "execution_count": 33,
      "outputs": []
    },
    {
      "cell_type": "code",
      "metadata": {
        "id": "2-jW8B5qp_wm"
      },
      "source": [
        "def train_step(batch_item, epoch, batch, training):\n",
        "    img = batch_item['img'].to(device)\n",
        "    seq = batch_item['seq'].to(device)\n",
        "    label = batch_item['label'].to(device)\n",
        "    if training is True:\n",
        "        model.train()\n",
        "        optimizer.zero_grad()\n",
        "        with torch.cuda.amp.autocast():\n",
        "            output = model(img, seq)\n",
        "            loss = criterion(output, label)\n",
        "        loss.backward()\n",
        "        optimizer.step()\n",
        "        \n",
        "        return loss\n",
        "    else:\n",
        "        model.eval()\n",
        "        with torch.no_grad():\n",
        "            output = model(img, seq)\n",
        "            loss = criterion(output, label)\n",
        "            \n",
        "        return loss"
      ],
      "execution_count": 34,
      "outputs": []
    },
    {
      "cell_type": "markdown",
      "metadata": {
        "id": "F92hiYVd9EG5"
      },
      "source": [
        "## 학습"
      ]
    },
    {
      "cell_type": "code",
      "metadata": {
        "id": "GPp_bbVQLBec"
      },
      "source": [
        "!mkdir \"./models\""
      ],
      "execution_count": 37,
      "outputs": []
    },
    {
      "cell_type": "code",
      "metadata": {
        "colab": {
          "base_uri": "https://localhost:8080/"
        },
        "id": "Z53hB3qLp_wm",
        "outputId": "9ad9f784-8010-48e1-9c39-c12f1b98e42a"
      },
      "source": [
        "loss_plot, val_loss_plot = [], []\n",
        "\n",
        "for epoch in range(EPOCHS):\n",
        "    total_loss, total_val_loss = 0, 0\n",
        "    \n",
        "    tqdm_dataset = tqdm(enumerate(train_dataloader))\n",
        "    training = True\n",
        "    for batch, batch_item in tqdm_dataset:\n",
        "        batch_loss = train_step(batch_item, epoch, batch, training)\n",
        "        total_loss += batch_loss\n",
        "        \n",
        "        tqdm_dataset.set_postfix({\n",
        "            'Epoch': epoch + 1,\n",
        "            'Loss': '{:06f}'.format(batch_loss.item()),\n",
        "            'Total Loss' : '{:06f}'.format(total_loss/(batch+1))\n",
        "        })\n",
        "    loss_plot.append(total_loss/(batch+1))\n",
        "    \n",
        "    tqdm_dataset = tqdm(enumerate(val_dataloader))\n",
        "    training = False\n",
        "    for batch, batch_item in tqdm_dataset:\n",
        "        batch_loss = train_step(batch_item, epoch, batch, training)\n",
        "        total_val_loss += batch_loss\n",
        "        \n",
        "        tqdm_dataset.set_postfix({\n",
        "            'Epoch': epoch + 1,\n",
        "            'Val Loss': '{:06f}'.format(batch_loss.item()),\n",
        "            'Total Val Loss' : '{:06f}'.format(total_val_loss/(batch+1))\n",
        "        })\n",
        "    val_loss_plot.append(total_val_loss/(batch+1))\n",
        "    \n",
        "    if np.min(val_loss_plot) == val_loss_plot[-1]:\n",
        "        torch.save(model, save_path)"
      ],
      "execution_count": 41,
      "outputs": [
        {
          "output_type": "stream",
          "text": [
            "/usr/local/lib/python3.7/dist-packages/torch/utils/data/dataloader.py:481: UserWarning: This DataLoader will create 16 worker processes in total. Our suggested max number of worker in current system is 2, which is smaller than what this DataLoader is going to create. Please be aware that excessive worker creation might get DataLoader running slow or even freeze, lower the worker number to avoid potential slowness/freeze if necessary.\n",
            "  cpuset_checked))\n",
            "422it [04:08,  1.70it/s, Epoch=1, Loss=0.309832, Total Loss=0.335094]\n",
            "53it [00:24,  2.19it/s, Epoch=1, Val Loss=0.478600, Total Val Loss=0.337450]\n",
            "422it [04:13,  1.66it/s, Epoch=2, Loss=0.364187, Total Loss=0.288515]\n",
            "53it [00:24,  2.15it/s, Epoch=2, Val Loss=0.377542, Total Val Loss=0.346139]\n",
            "422it [04:13,  1.66it/s, Epoch=3, Loss=0.237637, Total Loss=0.263378]\n",
            "53it [00:24,  2.17it/s, Epoch=3, Val Loss=0.279175, Total Val Loss=0.303065]\n",
            "422it [04:13,  1.66it/s, Epoch=4, Loss=0.209797, Total Loss=0.241990]\n",
            "53it [00:24,  2.15it/s, Epoch=4, Val Loss=0.364821, Total Val Loss=0.279579]\n",
            "422it [04:13,  1.66it/s, Epoch=5, Loss=0.179615, Total Loss=0.225648]\n",
            "53it [00:24,  2.17it/s, Epoch=5, Val Loss=0.219812, Total Val Loss=0.260585]\n",
            "422it [04:14,  1.66it/s, Epoch=6, Loss=0.205695, Total Loss=0.211658]\n",
            "53it [00:24,  2.17it/s, Epoch=6, Val Loss=0.271731, Total Val Loss=0.315018]\n",
            "422it [04:13,  1.66it/s, Epoch=7, Loss=0.191579, Total Loss=0.194799]\n",
            "53it [00:24,  2.15it/s, Epoch=7, Val Loss=0.276430, Total Val Loss=0.266861]\n",
            "422it [04:14,  1.66it/s, Epoch=8, Loss=0.168557, Total Loss=0.186116]\n",
            "53it [00:24,  2.15it/s, Epoch=8, Val Loss=0.192525, Total Val Loss=0.273421]\n",
            "422it [04:13,  1.66it/s, Epoch=9, Loss=0.183124, Total Loss=0.171155]\n",
            "53it [00:24,  2.15it/s, Epoch=9, Val Loss=0.281531, Total Val Loss=0.315385]\n",
            "422it [04:14,  1.66it/s, Epoch=10, Loss=0.145481, Total Loss=0.162420]\n",
            "53it [00:24,  2.13it/s, Epoch=10, Val Loss=0.268171, Total Val Loss=0.253922]\n",
            "422it [04:14,  1.66it/s, Epoch=11, Loss=0.130963, Total Loss=0.156426]\n",
            "53it [00:24,  2.15it/s, Epoch=11, Val Loss=0.262038, Total Val Loss=0.244392]\n",
            "422it [04:14,  1.66it/s, Epoch=12, Loss=0.134733, Total Loss=0.148240]\n",
            "53it [00:24,  2.16it/s, Epoch=12, Val Loss=0.312720, Total Val Loss=0.260359]\n",
            "422it [04:14,  1.66it/s, Epoch=13, Loss=0.160070, Total Loss=0.143804]\n",
            "53it [00:24,  2.15it/s, Epoch=13, Val Loss=0.186366, Total Val Loss=0.240192]\n",
            "422it [04:14,  1.66it/s, Epoch=14, Loss=0.140074, Total Loss=0.138175]\n",
            "53it [00:24,  2.14it/s, Epoch=14, Val Loss=0.286356, Total Val Loss=0.270146]\n",
            "422it [04:14,  1.66it/s, Epoch=15, Loss=0.135722, Total Loss=0.131324]\n",
            "53it [00:24,  2.15it/s, Epoch=15, Val Loss=0.249649, Total Val Loss=0.247937]\n",
            "422it [04:14,  1.66it/s, Epoch=16, Loss=0.123391, Total Loss=0.123774]\n",
            "53it [00:24,  2.13it/s, Epoch=16, Val Loss=0.185238, Total Val Loss=0.244498]\n",
            "422it [04:14,  1.66it/s, Epoch=17, Loss=0.118263, Total Loss=0.118898]\n",
            "53it [00:24,  2.15it/s, Epoch=17, Val Loss=0.279983, Total Val Loss=0.257568]\n",
            "422it [04:14,  1.66it/s, Epoch=18, Loss=0.114282, Total Loss=0.115426]\n",
            "53it [00:24,  2.15it/s, Epoch=18, Val Loss=0.251270, Total Val Loss=0.246769]\n",
            "422it [04:14,  1.66it/s, Epoch=19, Loss=0.118241, Total Loss=0.111397]\n",
            "53it [00:24,  2.15it/s, Epoch=19, Val Loss=0.326539, Total Val Loss=0.236572]\n",
            "422it [04:14,  1.66it/s, Epoch=20, Loss=0.118984, Total Loss=0.109400]\n",
            "53it [00:24,  2.15it/s, Epoch=20, Val Loss=0.258405, Total Val Loss=0.259543]\n",
            "422it [04:14,  1.66it/s, Epoch=21, Loss=0.099194, Total Loss=0.103546]\n",
            "53it [00:24,  2.14it/s, Epoch=21, Val Loss=0.455244, Total Val Loss=0.250480]\n",
            "422it [04:14,  1.66it/s, Epoch=22, Loss=0.112121, Total Loss=0.101946]\n",
            "53it [00:24,  2.15it/s, Epoch=22, Val Loss=0.240261, Total Val Loss=0.236880]\n",
            "422it [04:14,  1.66it/s, Epoch=23, Loss=0.114154, Total Loss=0.099661]\n",
            "53it [00:24,  2.15it/s, Epoch=23, Val Loss=0.202822, Total Val Loss=0.232165]\n",
            "422it [04:14,  1.66it/s, Epoch=24, Loss=0.101430, Total Loss=0.097870]\n",
            "53it [00:24,  2.15it/s, Epoch=24, Val Loss=0.470146, Total Val Loss=0.243703]\n",
            "422it [04:14,  1.66it/s, Epoch=25, Loss=0.080741, Total Loss=0.092820]\n",
            "53it [00:24,  2.16it/s, Epoch=25, Val Loss=0.212139, Total Val Loss=0.240961]\n"
          ],
          "name": "stderr"
        }
      ]
    },
    {
      "cell_type": "markdown",
      "metadata": {
        "id": "ZZed5xiK9EG6"
      },
      "source": [
        "## 학습 결과"
      ]
    },
    {
      "cell_type": "code",
      "metadata": {
        "id": "mn7sFqbSO4ag",
        "colab": {
          "base_uri": "https://localhost:8080/",
          "height": 279
        },
        "outputId": "b0c54467-2562-406e-9e2b-c00c6d261ed7"
      },
      "source": [
        "plt.plot(loss_plot, label='train_loss')\n",
        "plt.plot(val_loss_plot, label='val_loss')\n",
        "plt.xlabel('epoch')\n",
        "plt.ylabel('loss(mae)')\n",
        "plt.legend()\n",
        "plt.show()"
      ],
      "execution_count": 43,
      "outputs": [
        {
          "output_type": "display_data",
          "data": {
            "image/png": "[encoded data removed]",
            "text/plain": [
              "<Figure size 432x288 with 1 Axes>"
            ]
          },
          "metadata": {
            "tags": [],
            "needs_background": "light"
          }
        }
      ]
    },
    {
      "cell_type": "markdown",
      "metadata": {
        "id": "zTMLyKEi9EG6"
      },
      "source": [
        "## 모델 복원"
      ]
    },
    {
      "cell_type": "code",
      "metadata": {
        "id": "_7YRJKTY9EG6"
      },
      "source": [
        "model = torch.load(save_path)"
      ],
      "execution_count": 44,
      "outputs": []
    },
    {
      "cell_type": "markdown",
      "metadata": {
        "id": "JBuIE1Xz9EG6"
      },
      "source": [
        "## 테스트 데이터 및 제출 양식 로드"
      ]
    },
    {
      "cell_type": "code",
      "metadata": {
        "id": "BRUSsQJU9EG6"
      },
      "source": [
        "test = pd.read_csv('./data/test.csv')\n",
        "submission = pd.read_csv('./data/sample_submission.csv')"
      ],
      "execution_count": 45,
      "outputs": []
    },
    {
      "cell_type": "markdown",
      "metadata": {
        "id": "iHAB6JtR9EG7"
      },
      "source": [
        "## 테스트 데이터 전처리"
      ]
    },
    {
      "cell_type": "code",
      "metadata": {
        "id": "IwDJZiWJLu1U"
      },
      "source": [
        "!mkdir 'data/test_imgs'"
      ],
      "execution_count": 42,
      "outputs": []
    },
    {
      "cell_type": "code",
      "metadata": {
        "colab": {
          "base_uri": "https://localhost:8080/"
        },
        "id": "iTHjPgV29EG7",
        "outputId": "c3ca1d32-8dd7-4109-cc2c-834394c7f6f3"
      },
      "source": [
        "for idx, row in tqdm(test.iterrows()):\n",
        "    file = row['uid']\n",
        "    smiles = row['SMILES']\n",
        "    m = Chem.MolFromSmiles(smiles)\n",
        "    if m != None:\n",
        "        img = Draw.MolToImage(m, size=(300,300))\n",
        "        img.save(f'./data/test_imgs/{file}.png')"
      ],
      "execution_count": 46,
      "outputs": [
        {
          "output_type": "stream",
          "text": [
            "602it [00:07, 75.61it/s]\n"
          ],
          "name": "stderr"
        }
      ]
    },
    {
      "cell_type": "markdown",
      "metadata": {
        "id": "EC3CoQuF9EG7"
      },
      "source": [
        "## 테스트 데이터셋"
      ]
    },
    {
      "cell_type": "code",
      "metadata": {
        "colab": {
          "base_uri": "https://localhost:8080/"
        },
        "id": "aWcv8ABQ9EG7",
        "outputId": "ed8b0460-18e7-478f-cdd0-c97e2e74ad99"
      },
      "source": [
        "test_seqs = tokenizer.txt2seq(test.SMILES)\n",
        "test_imgs = ('./data/test_imgs/'+test.uid+'.png').to_numpy()"
      ],
      "execution_count": 47,
      "outputs": [
        {
          "output_type": "stream",
          "text": [
            "100%|██████████| 602/602 [00:00<00:00, 56691.24it/s]\n"
          ],
          "name": "stderr"
        }
      ]
    },
    {
      "cell_type": "code",
      "metadata": {
        "colab": {
          "base_uri": "https://localhost:8080/"
        },
        "id": "Wp7CQwPd9EG7",
        "outputId": "92682d7f-ecaa-44b0-d464-4b162c2f4a08"
      },
      "source": [
        "test_dataset = CustomDataset(imgs=test_imgs, seqs=test_seqs, labels=None, mode='test')\n",
        "test_dataloader = torch.utils.data.DataLoader(test_dataset, batch_size=BATCH_SIZE, num_workers=16)"
      ],
      "execution_count": 48,
      "outputs": [
        {
          "output_type": "stream",
          "text": [
            "/usr/local/lib/python3.7/dist-packages/torch/utils/data/dataloader.py:481: UserWarning: This DataLoader will create 16 worker processes in total. Our suggested max number of worker in current system is 2, which is smaller than what this DataLoader is going to create. Please be aware that excessive worker creation might get DataLoader running slow or even freeze, lower the worker number to avoid potential slowness/freeze if necessary.\n",
            "  cpuset_checked))\n"
          ],
          "name": "stderr"
        }
      ]
    },
    {
      "cell_type": "markdown",
      "metadata": {
        "id": "aR3Goiyb9EG7"
      },
      "source": [
        "## 추론 및 제출"
      ]
    },
    {
      "cell_type": "code",
      "metadata": {
        "id": "jLo7La-M9EG8"
      },
      "source": [
        "def predict(dataset):\n",
        "    model.eval()\n",
        "    result = []\n",
        "    for batch_item in dataset:\n",
        "        img = batch_item['img'].to(device)\n",
        "        seq = batch_item['seq'].to(device)\n",
        "        with torch.no_grad():\n",
        "            output = model(img, seq)\n",
        "        output = output.cpu().numpy()\n",
        "        gap = output[:, 0] - output[:, 1]\n",
        "        gap = np.where(gap<0, 0, gap)\n",
        "        result.extend(list(gap))\n",
        "        \n",
        "    return result"
      ],
      "execution_count": 49,
      "outputs": []
    },
    {
      "cell_type": "code",
      "metadata": {
        "colab": {
          "base_uri": "https://localhost:8080/"
        },
        "id": "y05UeHWd9EG8",
        "outputId": "1eb9e677-8082-441a-dc1d-8818d5fda36d"
      },
      "source": [
        "pred = predict(test_dataloader)"
      ],
      "execution_count": 50,
      "outputs": [
        {
          "output_type": "stream",
          "text": [
            "/usr/local/lib/python3.7/dist-packages/torch/utils/data/dataloader.py:481: UserWarning: This DataLoader will create 16 worker processes in total. Our suggested max number of worker in current system is 2, which is smaller than what this DataLoader is going to create. Please be aware that excessive worker creation might get DataLoader running slow or even freeze, lower the worker number to avoid potential slowness/freeze if necessary.\n",
            "  cpuset_checked))\n"
          ],
          "name": "stderr"
        }
      ]
    },
    {
      "cell_type": "code",
      "metadata": {
        "id": "vIo1ilw29EG8"
      },
      "source": [
        "submission['ST1_GAP(eV)'] = pred"
      ],
      "execution_count": 51,
      "outputs": []
    },
    {
      "cell_type": "code",
      "metadata": {
        "colab": {
          "base_uri": "https://localhost:8080/",
          "height": 419
        },
        "id": "9Pc9C2WC9EG8",
        "outputId": "8ca29291-f943-4a28-f414-0d7299eaa8ba"
      },
      "source": [
        "submission"
      ],
      "execution_count": 52,
      "outputs": [
        {
          "output_type": "execute_result",
          "data": {
            "text/html": [
              "<div>\n",
              "<style scoped>\n",
              "    .dataframe tbody tr th:only-of-type {\n",
              "        vertical-align: middle;\n",
              "    }\n",
              "\n",
              "    .dataframe tbody tr th {\n",
              "        vertical-align: top;\n",
              "    }\n",
              "\n",
              "    .dataframe thead th {\n",
              "        text-align: right;\n",
              "    }\n",
              "</style>\n",
              "<table border=\"1\" class=\"dataframe\">\n",
              "  <thead>\n",
              "    <tr style=\"text-align: right;\">\n",
              "      <th></th>\n",
              "      <th>uid</th>\n",
              "      <th>ST1_GAP(eV)</th>\n",
              "    </tr>\n",
              "  </thead>\n",
              "  <tbody>\n",
              "    <tr>\n",
              "      <th>0</th>\n",
              "      <td>test_0</td>\n",
              "      <td>0.987809</td>\n",
              "    </tr>\n",
              "    <tr>\n",
              "      <th>1</th>\n",
              "      <td>test_1</td>\n",
              "      <td>2.359563</td>\n",
              "    </tr>\n",
              "    <tr>\n",
              "      <th>2</th>\n",
              "      <td>test_2</td>\n",
              "      <td>0.851363</td>\n",
              "    </tr>\n",
              "    <tr>\n",
              "      <th>3</th>\n",
              "      <td>test_3</td>\n",
              "      <td>0.995866</td>\n",
              "    </tr>\n",
              "    <tr>\n",
              "      <th>4</th>\n",
              "      <td>test_4</td>\n",
              "      <td>1.330370</td>\n",
              "    </tr>\n",
              "    <tr>\n",
              "      <th>...</th>\n",
              "      <td>...</td>\n",
              "      <td>...</td>\n",
              "    </tr>\n",
              "    <tr>\n",
              "      <th>597</th>\n",
              "      <td>test_597</td>\n",
              "      <td>0.232878</td>\n",
              "    </tr>\n",
              "    <tr>\n",
              "      <th>598</th>\n",
              "      <td>test_598</td>\n",
              "      <td>0.085582</td>\n",
              "    </tr>\n",
              "    <tr>\n",
              "      <th>599</th>\n",
              "      <td>test_599</td>\n",
              "      <td>0.313631</td>\n",
              "    </tr>\n",
              "    <tr>\n",
              "      <th>600</th>\n",
              "      <td>test_600</td>\n",
              "      <td>0.686232</td>\n",
              "    </tr>\n",
              "    <tr>\n",
              "      <th>601</th>\n",
              "      <td>test_601</td>\n",
              "      <td>0.498922</td>\n",
              "    </tr>\n",
              "  </tbody>\n",
              "</table>\n",
              "<p>602 rows × 2 columns</p>\n",
              "</div>"
            ],
            "text/plain": [
              "          uid  ST1_GAP(eV)\n",
              "0      test_0     0.987809\n",
              "1      test_1     2.359563\n",
              "2      test_2     0.851363\n",
              "3      test_3     0.995866\n",
              "4      test_4     1.330370\n",
              "..        ...          ...\n",
              "597  test_597     0.232878\n",
              "598  test_598     0.085582\n",
              "599  test_599     0.313631\n",
              "600  test_600     0.686232\n",
              "601  test_601     0.498922\n",
              "\n",
              "[602 rows x 2 columns]"
            ]
          },
          "metadata": {
            "tags": []
          },
          "execution_count": 52
        }
      ]
    },
    {
      "cell_type": "code",
      "metadata": {
        "id": "mby8Y6LY9EG8"
      },
      "source": [
        "submission.to_csv('dacon_baseline.csv', index=False)"
      ],
      "execution_count": 53,
      "outputs": []
    },
    {
      "cell_type": "markdown",
      "metadata": {
        "id": "ixgdjROW9EG8"
      },
      "source": [
        "제출 API 사용법 => https://dacon.io/forum/403557"
      ]
    },
    {
      "cell_type": "code",
      "metadata": {
        "colab": {
          "base_uri": "https://localhost:8080/"
        },
        "id": "j19iJ5YBaRR4",
        "outputId": "d5f39572-99b7-4fa1-df99-d280fd4ab4b5"
      },
      "source": [
        "!pip install dacon_submit_api-0.0.4-py3-none-any.whl\n"
      ],
      "execution_count": 59,
      "outputs": [
        {
          "output_type": "stream",
          "text": [
            "Processing ./dacon_submit_api-0.0.4-py3-none-any.whl\n",
            "dacon-submit-api is already installed with the same version as the provided wheel. Use --force-reinstall to force an installation of the wheel.\n"
          ],
          "name": "stdout"
        }
      ]
    },
    {
      "cell_type": "code",
      "metadata": {
        "colab": {
          "base_uri": "https://localhost:8080/"
        },
        "id": "u_kVYpv_9EG8",
        "outputId": "b1746d46-4e2d-4dbe-ba4f-3e2b2851f885"
      },
      "source": [
        "from dacon_submit_api import dacon_submit_api \n",
        "\n",
        "result = dacon_submit_api.post_submission_file(\n",
        "    '/content/dacon_baseline.csv', \n",
        "    'c4d90e2aea89b4c69abe2a9a4d55fedf79e7221f564e382f74ef1f94bbc165d7', \n",
        "    '235789', \n",
        "    'CAU_KElab', \n",
        "    'CAU_KElab_baseline'\n",
        ")"
      ],
      "execution_count": 63,
      "outputs": [
        {
          "output_type": "stream",
          "text": [
            "exception occurs. 예외가 발생했습니다 unhashable type: 'dict'\n"
          ],
          "name": "stdout"
        }
      ]
    },
    {
      "cell_type": "markdown",
      "metadata": {
        "id": "28pNUbxj9EG9"
      },
      "source": [
        "# Public LB Score : 0.19445"
      ]
    },
    {
      "cell_type": "code",
      "metadata": {
        "id": "WGW_No1JpB5i"
      },
      "source": [
        ""
      ],
      "execution_count": null,
      "outputs": []
    }
  ]
}