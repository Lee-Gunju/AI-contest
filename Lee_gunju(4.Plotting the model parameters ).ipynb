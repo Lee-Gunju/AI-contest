{
  "nbformat": 4,
  "nbformat_minor": 0,
  "metadata": {
    "colab": {
      "name": "Lee_gunju.ipynb",
      "provenance": []
    },
    "kernelspec": {
      "name": "python3",
      "display_name": "Python 3"
    }
  },
  "cells": [
    {
      "cell_type": "code",
      "metadata": {
        "id": "q9Ppy2N1yoCo",
        "colab_type": "code",
        "colab": {}
      },
      "source": [
        "import numpy as np\n",
        "import random\n",
        "import matplotlib.pyplot as plt"
      ],
      "execution_count": 0,
      "outputs": []
    },
    {
      "cell_type": "code",
      "metadata": {
        "id": "NZz05whWcoBe",
        "colab_type": "code",
        "colab": {}
      },
      "source": [
        "m = 100 \n",
        "\n",
        "temp = []\n",
        "for i in range(m):\n",
        "  x_data = np.random.normal(0, 0.5)    # x data\n",
        "  y_data = x_data * 0.2 + 0.5 + np.random.normal(0, 0.15) # y data\n",
        "  temp.append([x_data, y_data])   #x data, y data\n",
        "\n",
        "\n",
        "temp_array = np.array(temp)\n",
        "train_x = temp_array[:, 0] # train x data\n",
        "train_y = temp_array[:, 1] # train y data\n",
        "\n",
        "w = 1.0\n",
        "b = 1.0\n",
        "\n",
        "hypothesis = train_x * w + b # linear model \n",
        "\n",
        "plt.plot(train_x, train_y, 'ko', label = 'data') # 1.Input data \n",
        "plt.plot(train_x, hypothesis, 'b', label = 'initial graph') # 1.Input data \n",
        "plt.legend()\n",
        "plt.show()"
      ],
      "execution_count": 0,
      "outputs": []
    },
    {
      "cell_type": "code",
      "metadata": {
        "id": "B09M1oH5co-D",
        "colab_type": "code",
        "colab": {}
      },
      "source": [
        "n_data = len(train_x)\n",
        "epochs = 3000\n",
        "learning_rate = 0.01 # step_size \n",
        "w_list = []\n",
        "b_list = []\n",
        "cost_list = []\n",
        "\n",
        "\n",
        "for i in range(epochs):\n",
        "    hypothesis = train_x * w + b\n",
        "    cost = np.sum((hypothesis - train_y) ** 2) / 2 * n_data  # objective function \n",
        "    gradient_w = np.sum((w * train_x - train_y + b) * 2 * train_x) / n_data # gradient descent θ1\n",
        "    gradient_b = np.sum((w * train_x - train_y + b) * 2) / n_data # gradient descent θ0 \n",
        "\n",
        "    w -= learning_rate * gradient_w # gradient descent θ1\n",
        "    b -= learning_rate * gradient_b # gradient descent θ0\n",
        "\n",
        "    w_list.append(w)\n",
        "    b_list.append(b)\n",
        "    cost_list.append(cost)\n",
        "\n",
        "plt.plot(train_x, train_y, 'ko', label = 'data') # 2.Output results\n",
        "plt.plot(train_x, hypothesis, 'r', label = 'solution graph') # 2.Output results\n",
        "plt.legend()\n",
        "plt.show()"
      ],
      "execution_count": 0,
      "outputs": []
    },
    {
      "cell_type": "code",
      "metadata": {
        "id": "BbX738eM3gTO",
        "colab_type": "code",
        "colab": {}
      },
      "source": [
        "plt.plot(range(epochs), cost_list, 'b', label = 'energy values') # 3.Plotting the energy values \n",
        "plt.ylabel('cost')\n",
        "plt.xlabel('epochs')\n",
        "plt.legend()\n",
        "plt.show()"
      ],
      "execution_count": 0,
      "outputs": []
    },
    {
      "cell_type": "code",
      "metadata": {
        "id": "myntNrj03_ZS",
        "colab_type": "code",
        "colab": {
          "base_uri": "https://localhost:8080/",
          "height": 279
        },
        "outputId": "1041a181-7964-44a6-88fd-04cc20c585c2"
      },
      "source": [
        "plt.plot(range(epochs), w_list, 'b', label = 'w values') # 4.Plotting the model parameters \n",
        "plt.plot(range(epochs), b_list, 'r', label = 'b values') # 4.Plotting the model parameters \n",
        "plt.ylabel('values')\n",
        "plt.xlabel('epochs')\n",
        "plt.legend()\n",
        "plt.show()"
      ],
      "execution_count": 68,
      "outputs": [
        {
          "output_type": "display_data",
          "data": {
            "image/png": "[encoded data removed]",
            "text/plain": [
              "<Figure size 432x288 with 1 Axes>"
            ]
          },
          "metadata": {
            "tags": []
          }
        }
      ]
    },
    {
      "cell_type": "code",
      "metadata": {
        "id": "sOLtezHA3_2-",
        "colab_type": "code",
        "colab": {}
      },
      "source": [
        ""
      ],
      "execution_count": 0,
      "outputs": []
    }
  ]
}