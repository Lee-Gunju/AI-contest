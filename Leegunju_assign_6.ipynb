{
  "nbformat": 4,
  "nbformat_minor": 0,
  "metadata": {
    "colab": {
      "name": "Leegunju_assign_6.ipynb",
      "provenance": [],
      "mount_file_id": "1_1h1mA_kggKIR-K7gdGAytF4xqCclh-N",
      "authorship_tag": "ABX9TyMAoQn7wV0uWHBXwDW1xS2U",
      "include_colab_link": true
    },
    "kernelspec": {
      "name": "python3",
      "display_name": "Python 3"
    }
  },
  "cells": [
    {
      "cell_type": "markdown",
      "metadata": {
        "id": "view-in-github",
        "colab_type": "text"
      },
      "source": [
        "<a href=\"https://colab.research.google.com/github/Lee-Gunju/Lee-Gunju/blob/master/Leegunju_assign_6.ipynb\" target=\"_parent\"><img src=\"https://colab.research.google.com/assets/colab-badge.svg\" alt=\"Open In Colab\"/></a>"
      ]
    },
    {
      "cell_type": "markdown",
      "metadata": {
        "id": "mT_4xXauKGj9",
        "colab_type": "text"
      },
      "source": [
        "1. Plot the training data [1pt]\n",
        "\n"
      ]
    },
    {
      "cell_type": "code",
      "metadata": {
        "id": "cn7DSgsutnKr",
        "colab_type": "code",
        "outputId": "ba8c9cea-66ee-49d9-fee5-9decfb3a83f1",
        "colab": {
          "base_uri": "https://localhost:8080/",
          "height": 297
        }
      },
      "source": [
        "import numpy as np\n",
        "import matplotlib.pyplot as plt\n",
        "\n",
        "data    = np.genfromtxt(\"data-nonlinear.txt\", delimiter=',')\n",
        "\n",
        "pointX  = data[:, 0]\n",
        "pointY  = data[:, 1]\n",
        "label   = data[:, 2]\n",
        "\n",
        "pointX0 = pointX[label == 0]\n",
        "pointY0 = pointY[label == 0]\n",
        "\n",
        "pointX1 = pointX[label == 1]\n",
        "pointY1 = pointY[label == 1]\n",
        "\n",
        "plt.figure()\n",
        "plt.scatter(pointX0, pointY0, c='b')\n",
        "plt.scatter(pointX1, pointY1, c='r')\n",
        "plt.tight_layout()\n",
        "plt.gca().set_aspect('equal', adjustable='box')\n",
        "plt.show()\n"
      ],
      "execution_count": 43,
      "outputs": [
        {
          "output_type": "display_data",
          "data": {
            "image/png": "[encoded data removed]",
            "text/plain": [
              "<Figure size 432x288 with 1 Axes>"
            ]
          },
          "metadata": {
            "tags": [],
            "needs_background": "light"
          }
        }
      ]
    },
    {
      "cell_type": "code",
      "metadata": {
        "id": "hkQF9AKSucgI",
        "colab_type": "code",
        "colab": {}
      },
      "source": [
        "\n",
        "def load_data():\n",
        "  data = np.genfromtxt('data-nonlinear.txt', delimiter = ',')\n",
        "  X = points[:,0:2]\n",
        "  y = points[:,2]\n",
        "  y = y.reshape((len(y),1))\n",
        "  return X.T, y.T\n",
        "\n",
        "def fea_map(X1, X2, shape, degree = 6):\n",
        "  new_X = np.ones((degree, shape))\n",
        "  new_X[0,:] = (X1)\n",
        "  new_X[1,:] = (X2)\n",
        "  new_X[2,:] = (X1**2)\n",
        "  new_X[3,:] = (X2**2)\n",
        "  new_X[4,:] = (X1*X2)\n",
        "  new_X[5,:] = ((X1*X2)**2)\n",
        "  return new_X\n",
        "\n",
        "\n",
        "def plt_data(X, y):\n",
        "  acct = plt.scatter(X[0, np.where(y == 1)], X[1, np.where(y == 1)], color='blue' )\n",
        "  not_acct = plt.scatter(X[0, np.where(y == 0)], X[1, np.where(y == 0)], color='red')\n",
        "  plt.legend(handles=[acct, not_acct], loc = 3)\n",
        "  plt.show()\n",
        "\n",
        "\n",
        "def initial_zero(dim):\n",
        "  W = np.zeros(shape=(dim, 1))\n",
        "  b = 0\n",
        "  return W, b\n",
        "\n",
        "\n",
        "def predict(W, b, X):\n",
        "  m = X.shape[1]\n",
        "  y_hat = np.zeros((1,m))\n",
        "  W = W.reshape(X.shape[0], 1)\n",
        "  A = sigmoid(np.dot(W.T, X) + b)\n",
        "  \n",
        "  for i in range(A.shape[1]):\n",
        "    if A[0,i] > 0.5:\n",
        "      y_hat[0,i] = 1\n",
        "    else:\n",
        "      y_hat[0,i] = 0\n",
        "  return y_hat\n",
        "\n",
        "\n",
        "\n",
        "def sigmoid(Z):\n",
        "  A = 1 / (1 + np.exp(-Z))\n",
        "  return A\n",
        "\n",
        "def propa(W, b, X, y):\n",
        "  m = X.shape[1]\n",
        "  A = sigmoid(np.dot(W.T, X) + b)\n",
        "  cost = - (1 / m) * np.sum((y * np.log(A)) + ((1 - y) * np.log(1 - A)))\n",
        "  dw = (1 / m) * np.dot(X, (A - y).T)\n",
        "  db = (1 / m) * np.sum(A - y)\n",
        "  cost = np.squeeze(cost)\n",
        "  grads = {\"dw\": dw, \"db\": db}\n",
        "  return grads, cost\n",
        "\n",
        "def optimize(W, b, X, y, num_iterations, learning_rate):\n",
        "  costs = []\n",
        "  accuracys = []\n",
        "  for i in range(num_iterations):\n",
        "    grads, cost = propa(W, b, X, y)\n",
        "    dw = grads[\"dw\"]\n",
        "    db = grads[\"db\"]\n",
        "    W = W - learning_rate * dw\n",
        "    b = b - learning_rate * db\n",
        "    if i % 100 == 0:\n",
        "      plot_predicted_data(X, y, W, b)\n",
        "      hat = predict(W, b, X)\n",
        "      acc = 100 - np.mean(np.abs(hat - y)) * 100\n",
        "      accuracys.append(acc)\n",
        "      costs.append(cost)\n",
        "\n",
        "  params = {\"W\": W, \"b\": b}\n",
        "  grads = {\"dw\": dw, \"db\": db}\n",
        "  return params, grads, costs, accuracys\n",
        "\n",
        "def model(X, y, num_iterations = 10000, learning_rate = 0.1):\n",
        "  W, b = initial_zero(X.shape[0])\n",
        "  parameters, grads, costs, accuracys = optimize(W, b, X, y, num_iterations, learning_rate)\n",
        "  W = parameters[\"W\"]\n",
        "  b = parameters[\"b\"]\n",
        "\n",
        "  y_hat = predict(W, b, X)\n",
        "  print(\"Train accuracy: {} %\".format(100 - np.mean(np.abs(y_hat - y)) * 100))\n",
        "  h = {\"costs\": costs, \"acc\" : accuracys, \"W\" : W, \"b\" : b, \"learning_rate\" : learning_rate,\"num_iterations\": num_iterations}\n",
        "  return h\n",
        "\n",
        "def cost_plt(cost_list1):\n",
        "  plt.figure(2)\n",
        "  plt.plot(cost_list1, color = 'blue')\n",
        "  plt.xlabel('epoch')\n",
        "  plt.ylabel('loss')\n",
        "  plt.show()\n",
        "\n",
        "def accuracy(accuracy_list):\n",
        "  plt.figure(2)\n",
        "  plt.plot(accuracy_list, color = 'red')\n",
        "  plt.show()\n",
        "\n",
        "\n",
        "def predict_list(X, y, W, b):\n",
        "  plt.clf()\n",
        "  acct = plt.scatter(X[0, np.where(y == 1)], X[1, np.where(y == 1)], color='blue' )\n",
        "  not_acct = plt.scatter(X[0, np.where(y == 0)], X[1, np.where(y == 0)], color='red')\n",
        "  u = np.linspace(-1, 1.5, 50)\n",
        "  v = np.linspace(-1, 1.5, 50)\n",
        "  z = np.zeros((len(u), len(v)))\n",
        "  for i in range (len(u)):\n",
        "    for j in range (len(v)):\n",
        "      z[i,j] = np.dot(W.T, map_feature(u[i], v[j], 1)) + b\n",
        "  z = z.T\n",
        "\n",
        "  plt.contour(u, v, z, 0)\n",
        "  plt.legend(handles=[acct, not_acct], loc = 3)\n",
        "  plt.draw()\n"
      ],
      "execution_count": 0,
      "outputs": []
    },
    {
      "cell_type": "markdown",
      "metadata": {
        "id": "UjYuQP6iKata",
        "colab_type": "text"
      },
      "source": [
        "3. Plot the training error [3pt][링크 텍스트](https://)"
      ]
    },
    {
      "cell_type": "code",
      "metadata": {
        "id": "seR_ZtURJc7L",
        "colab_type": "code",
        "colab": {
          "base_uri": "https://localhost:8080/",
          "height": 279
        },
        "outputId": "936567f2-0f9f-4ee0-8c9d-3c899640fa33"
      },
      "source": [
        "cost_plt(h[\"costs\"])"
      ],
      "execution_count": 45,
      "outputs": [
        {
          "output_type": "display_data",
          "data": {
            "image/png": "[encoded data removed]",
            "text/plain": [
              "<Figure size 432x288 with 1 Axes>"
            ]
          },
          "metadata": {
            "tags": [],
            "needs_background": "light"
          }
        }
      ]
    },
    {
      "cell_type": "markdown",
      "metadata": {
        "id": "et5HTtaWKdEN",
        "colab_type": "text"
      },
      "source": [
        "4. Plot the training accuracy [3pt]\n",
        "\n"
      ]
    },
    {
      "cell_type": "code",
      "metadata": {
        "id": "r2JqCTEvJfOJ",
        "colab_type": "code",
        "colab": {
          "base_uri": "https://localhost:8080/",
          "height": 266
        },
        "outputId": "c5b86968-1462-4615-c6d8-b1e9ae90cf46"
      },
      "source": [
        "accuracy(h[\"acc\"])"
      ],
      "execution_count": 46,
      "outputs": [
        {
          "output_type": "display_data",
          "data": {
            "image/png": "[encoded data removed]",
            "text/plain": [
              "<Figure size 432x288 with 1 Axes>"
            ]
          },
          "metadata": {
            "tags": [],
            "needs_background": "light"
          }
        }
      ]
    },
    {
      "cell_type": "markdown",
      "metadata": {
        "id": "oII3BlnTKiGe",
        "colab_type": "text"
      },
      "source": [
        "5. Write down the final training accuracy [5pt]\n",
        "\n",
        "6. Plot the optimal classifier superimposed on the training data [5pt]\n",
        "\n"
      ]
    },
    {
      "cell_type": "code",
      "metadata": {
        "id": "7ME_2AMrJqap",
        "colab_type": "code",
        "colab": {
          "base_uri": "https://localhost:8080/",
          "height": 1000
        },
        "outputId": "b50e9478-5670-43f2-a4b6-4ff2feac73cd"
      },
      "source": [
        "X = fea_map(X[0,:], X[1,:], X.shape[1])\n",
        "h = model(X, y)\n",
        "predict_list(X, y, h[\"W\"], h[\"b\"])"
      ],
      "execution_count": 47,
      "outputs": [
        {
          "output_type": "stream",
          "text": [
            "/usr/local/lib/python3.6/dist-packages/ipykernel_launcher.py:119: UserWarning: The handle <matplotlib.collections.PathCollection object at 0x7f9128355dd8> has a label of '_collection0' which cannot be automatically added to the legend.\n",
            "/usr/local/lib/python3.6/dist-packages/ipykernel_launcher.py:119: UserWarning: The handle <matplotlib.collections.PathCollection object at 0x7f91283551d0> has a label of '_collection1' which cannot be automatically added to the legend.\n",
            "/usr/local/lib/python3.6/dist-packages/ipykernel_launcher.py:119: UserWarning: The handle <matplotlib.collections.PathCollection object at 0x7f9128395f98> has a label of '_collection0' which cannot be automatically added to the legend.\n",
            "/usr/local/lib/python3.6/dist-packages/ipykernel_launcher.py:119: UserWarning: The handle <matplotlib.collections.PathCollection object at 0x7f9128395390> has a label of '_collection1' which cannot be automatically added to the legend.\n",
            "/usr/local/lib/python3.6/dist-packages/ipykernel_launcher.py:119: UserWarning: The handle <matplotlib.collections.PathCollection object at 0x7f912835cf60> has a label of '_collection0' which cannot be automatically added to the legend.\n",
            "/usr/local/lib/python3.6/dist-packages/ipykernel_launcher.py:119: UserWarning: The handle <matplotlib.collections.PathCollection object at 0x7f91282091d0> has a label of '_collection1' which cannot be automatically added to the legend.\n",
            "/usr/local/lib/python3.6/dist-packages/ipykernel_launcher.py:119: UserWarning: The handle <matplotlib.collections.PathCollection object at 0x7f91281d21d0> has a label of '_collection0' which cannot be automatically added to the legend.\n",
            "/usr/local/lib/python3.6/dist-packages/ipykernel_launcher.py:119: UserWarning: The handle <matplotlib.collections.PathCollection object at 0x7f91281d2160> has a label of '_collection1' which cannot be automatically added to the legend.\n",
            "/usr/local/lib/python3.6/dist-packages/ipykernel_launcher.py:119: UserWarning: The handle <matplotlib.collections.PathCollection object at 0x7f9128424358> has a label of '_collection0' which cannot be automatically added to the legend.\n",
            "/usr/local/lib/python3.6/dist-packages/ipykernel_launcher.py:119: UserWarning: The handle <matplotlib.collections.PathCollection object at 0x7f91284246d8> has a label of '_collection1' which cannot be automatically added to the legend.\n",
            "/usr/local/lib/python3.6/dist-packages/ipykernel_launcher.py:119: UserWarning: The handle <matplotlib.collections.PathCollection object at 0x7f91280eafd0> has a label of '_collection0' which cannot be automatically added to the legend.\n",
            "/usr/local/lib/python3.6/dist-packages/ipykernel_launcher.py:119: UserWarning: The handle <matplotlib.collections.PathCollection object at 0x7f9128361898> has a label of '_collection1' which cannot be automatically added to the legend.\n",
            "/usr/local/lib/python3.6/dist-packages/ipykernel_launcher.py:119: UserWarning: The handle <matplotlib.collections.PathCollection object at 0x7f9128110c18> has a label of '_collection0' which cannot be automatically added to the legend.\n",
            "/usr/local/lib/python3.6/dist-packages/ipykernel_launcher.py:119: UserWarning: The handle <matplotlib.collections.PathCollection object at 0x7f9128110f98> has a label of '_collection1' which cannot be automatically added to the legend.\n",
            "/usr/local/lib/python3.6/dist-packages/ipykernel_launcher.py:119: UserWarning: The handle <matplotlib.collections.PathCollection object at 0x7f9128132940> has a label of '_collection0' which cannot be automatically added to the legend.\n",
            "/usr/local/lib/python3.6/dist-packages/ipykernel_launcher.py:119: UserWarning: The handle <matplotlib.collections.PathCollection object at 0x7f91281324e0> has a label of '_collection1' which cannot be automatically added to the legend.\n",
            "/usr/local/lib/python3.6/dist-packages/ipykernel_launcher.py:119: UserWarning: The handle <matplotlib.collections.PathCollection object at 0x7f91280c0550> has a label of '_collection0' which cannot be automatically added to the legend.\n",
            "/usr/local/lib/python3.6/dist-packages/ipykernel_launcher.py:119: UserWarning: The handle <matplotlib.collections.PathCollection object at 0x7f91280c0710> has a label of '_collection1' which cannot be automatically added to the legend.\n",
            "/usr/local/lib/python3.6/dist-packages/ipykernel_launcher.py:119: UserWarning: The handle <matplotlib.collections.PathCollection object at 0x7f91280a1518> has a label of '_collection0' which cannot be automatically added to the legend.\n",
            "/usr/local/lib/python3.6/dist-packages/ipykernel_launcher.py:119: UserWarning: The handle <matplotlib.collections.PathCollection object at 0x7f91280a1898> has a label of '_collection1' which cannot be automatically added to the legend.\n",
            "/usr/local/lib/python3.6/dist-packages/ipykernel_launcher.py:119: UserWarning: The handle <matplotlib.collections.PathCollection object at 0x7f91281d2b00> has a label of '_collection0' which cannot be automatically added to the legend.\n",
            "/usr/local/lib/python3.6/dist-packages/ipykernel_launcher.py:119: UserWarning: The handle <matplotlib.collections.PathCollection object at 0x7f91281d2208> has a label of '_collection1' which cannot be automatically added to the legend.\n",
            "/usr/local/lib/python3.6/dist-packages/ipykernel_launcher.py:119: UserWarning: The handle <matplotlib.collections.PathCollection object at 0x7f912818cd30> has a label of '_collection0' which cannot be automatically added to the legend.\n",
            "/usr/local/lib/python3.6/dist-packages/ipykernel_launcher.py:119: UserWarning: The handle <matplotlib.collections.PathCollection object at 0x7f912848a0f0> has a label of '_collection1' which cannot be automatically added to the legend.\n",
            "/usr/local/lib/python3.6/dist-packages/ipykernel_launcher.py:119: UserWarning: The handle <matplotlib.collections.PathCollection object at 0x7f91281d54e0> has a label of '_collection0' which cannot be automatically added to the legend.\n",
            "/usr/local/lib/python3.6/dist-packages/ipykernel_launcher.py:119: UserWarning: The handle <matplotlib.collections.PathCollection object at 0x7f91281d5860> has a label of '_collection1' which cannot be automatically added to the legend.\n",
            "/usr/local/lib/python3.6/dist-packages/ipykernel_launcher.py:119: UserWarning: The handle <matplotlib.collections.PathCollection object at 0x7f91280d7e48> has a label of '_collection0' which cannot be automatically added to the legend.\n",
            "/usr/local/lib/python3.6/dist-packages/ipykernel_launcher.py:119: UserWarning: The handle <matplotlib.collections.PathCollection object at 0x7f9128389ac8> has a label of '_collection1' which cannot be automatically added to the legend.\n",
            "/usr/local/lib/python3.6/dist-packages/ipykernel_launcher.py:119: UserWarning: The handle <matplotlib.collections.PathCollection object at 0x7f91280ea2b0> has a label of '_collection0' which cannot be automatically added to the legend.\n",
            "/usr/local/lib/python3.6/dist-packages/ipykernel_launcher.py:119: UserWarning: The handle <matplotlib.collections.PathCollection object at 0x7f912848a048> has a label of '_collection1' which cannot be automatically added to the legend.\n",
            "/usr/local/lib/python3.6/dist-packages/ipykernel_launcher.py:119: UserWarning: The handle <matplotlib.collections.PathCollection object at 0x7f912b647978> has a label of '_collection0' which cannot be automatically added to the legend.\n",
            "/usr/local/lib/python3.6/dist-packages/ipykernel_launcher.py:119: UserWarning: The handle <matplotlib.collections.PathCollection object at 0x7f912807ed68> has a label of '_collection1' which cannot be automatically added to the legend.\n",
            "/usr/local/lib/python3.6/dist-packages/ipykernel_launcher.py:119: UserWarning: The handle <matplotlib.collections.PathCollection object at 0x7f91284a3160> has a label of '_collection0' which cannot be automatically added to the legend.\n",
            "/usr/local/lib/python3.6/dist-packages/ipykernel_launcher.py:119: UserWarning: The handle <matplotlib.collections.PathCollection object at 0x7f91284a3128> has a label of '_collection1' which cannot be automatically added to the legend.\n",
            "/usr/local/lib/python3.6/dist-packages/ipykernel_launcher.py:119: UserWarning: The handle <matplotlib.collections.PathCollection object at 0x7f9128132a90> has a label of '_collection0' which cannot be automatically added to the legend.\n",
            "/usr/local/lib/python3.6/dist-packages/ipykernel_launcher.py:119: UserWarning: The handle <matplotlib.collections.PathCollection object at 0x7f9128466240> has a label of '_collection1' which cannot be automatically added to the legend.\n",
            "/usr/local/lib/python3.6/dist-packages/ipykernel_launcher.py:119: UserWarning: The handle <matplotlib.collections.PathCollection object at 0x7f91282e1be0> has a label of '_collection0' which cannot be automatically added to the legend.\n",
            "/usr/local/lib/python3.6/dist-packages/ipykernel_launcher.py:119: UserWarning: The handle <matplotlib.collections.PathCollection object at 0x7f9128444d30> has a label of '_collection1' which cannot be automatically added to the legend.\n",
            "/usr/local/lib/python3.6/dist-packages/ipykernel_launcher.py:119: UserWarning: The handle <matplotlib.collections.PathCollection object at 0x7f91280a8f28> has a label of '_collection0' which cannot be automatically added to the legend.\n",
            "/usr/local/lib/python3.6/dist-packages/ipykernel_launcher.py:119: UserWarning: The handle <matplotlib.collections.PathCollection object at 0x7f91280d7160> has a label of '_collection1' which cannot be automatically added to the legend.\n",
            "/usr/local/lib/python3.6/dist-packages/ipykernel_launcher.py:119: UserWarning: The handle <matplotlib.collections.PathCollection object at 0x7f91282e7c88> has a label of '_collection0' which cannot be automatically added to the legend.\n",
            "/usr/local/lib/python3.6/dist-packages/ipykernel_launcher.py:119: UserWarning: The handle <matplotlib.collections.PathCollection object at 0x7f91282e7518> has a label of '_collection1' which cannot be automatically added to the legend.\n",
            "/usr/local/lib/python3.6/dist-packages/ipykernel_launcher.py:119: UserWarning: The handle <matplotlib.collections.PathCollection object at 0x7f91281d2d30> has a label of '_collection0' which cannot be automatically added to the legend.\n",
            "/usr/local/lib/python3.6/dist-packages/ipykernel_launcher.py:119: UserWarning: The handle <matplotlib.collections.PathCollection object at 0x7f91283c7cc0> has a label of '_collection1' which cannot be automatically added to the legend.\n",
            "/usr/local/lib/python3.6/dist-packages/ipykernel_launcher.py:119: UserWarning: The handle <matplotlib.collections.PathCollection object at 0x7f912be6e588> has a label of '_collection0' which cannot be automatically added to the legend.\n",
            "/usr/local/lib/python3.6/dist-packages/ipykernel_launcher.py:119: UserWarning: The handle <matplotlib.collections.PathCollection object at 0x7f912be6e6a0> has a label of '_collection1' which cannot be automatically added to the legend.\n",
            "/usr/local/lib/python3.6/dist-packages/ipykernel_launcher.py:119: UserWarning: The handle <matplotlib.collections.PathCollection object at 0x7f91286e20f0> has a label of '_collection0' which cannot be automatically added to the legend.\n",
            "/usr/local/lib/python3.6/dist-packages/ipykernel_launcher.py:119: UserWarning: The handle <matplotlib.collections.PathCollection object at 0x7f91286e2898> has a label of '_collection1' which cannot be automatically added to the legend.\n",
            "/usr/local/lib/python3.6/dist-packages/ipykernel_launcher.py:119: UserWarning: The handle <matplotlib.collections.PathCollection object at 0x7f912826de48> has a label of '_collection0' which cannot be automatically added to the legend.\n",
            "/usr/local/lib/python3.6/dist-packages/ipykernel_launcher.py:119: UserWarning: The handle <matplotlib.collections.PathCollection object at 0x7f912826d278> has a label of '_collection1' which cannot be automatically added to the legend.\n",
            "/usr/local/lib/python3.6/dist-packages/ipykernel_launcher.py:119: UserWarning: The handle <matplotlib.collections.PathCollection object at 0x7f9128747d68> has a label of '_collection0' which cannot be automatically added to the legend.\n",
            "/usr/local/lib/python3.6/dist-packages/ipykernel_launcher.py:119: UserWarning: The handle <matplotlib.collections.PathCollection object at 0x7f9128747470> has a label of '_collection1' which cannot be automatically added to the legend.\n",
            "/usr/local/lib/python3.6/dist-packages/ipykernel_launcher.py:119: UserWarning: The handle <matplotlib.collections.PathCollection object at 0x7f9128747978> has a label of '_collection0' which cannot be automatically added to the legend.\n",
            "/usr/local/lib/python3.6/dist-packages/ipykernel_launcher.py:119: UserWarning: The handle <matplotlib.collections.PathCollection object at 0x7f912b64a6a0> has a label of '_collection1' which cannot be automatically added to the legend.\n",
            "/usr/local/lib/python3.6/dist-packages/ipykernel_launcher.py:119: UserWarning: The handle <matplotlib.collections.PathCollection object at 0x7f9128476b70> has a label of '_collection0' which cannot be automatically added to the legend.\n",
            "/usr/local/lib/python3.6/dist-packages/ipykernel_launcher.py:119: UserWarning: The handle <matplotlib.collections.PathCollection object at 0x7f9128476b00> has a label of '_collection1' which cannot be automatically added to the legend.\n",
            "/usr/local/lib/python3.6/dist-packages/ipykernel_launcher.py:119: UserWarning: The handle <matplotlib.collections.PathCollection object at 0x7f91283d3828> has a label of '_collection0' which cannot be automatically added to the legend.\n",
            "/usr/local/lib/python3.6/dist-packages/ipykernel_launcher.py:119: UserWarning: The handle <matplotlib.collections.PathCollection object at 0x7f91283d3ba8> has a label of '_collection1' which cannot be automatically added to the legend.\n",
            "/usr/local/lib/python3.6/dist-packages/ipykernel_launcher.py:119: UserWarning: The handle <matplotlib.collections.PathCollection object at 0x7f912b60db00> has a label of '_collection0' which cannot be automatically added to the legend.\n",
            "/usr/local/lib/python3.6/dist-packages/ipykernel_launcher.py:119: UserWarning: The handle <matplotlib.collections.PathCollection object at 0x7f912b60d9b0> has a label of '_collection1' which cannot be automatically added to the legend.\n",
            "/usr/local/lib/python3.6/dist-packages/ipykernel_launcher.py:119: UserWarning: The handle <matplotlib.collections.PathCollection object at 0x7f9128782278> has a label of '_collection0' which cannot be automatically added to the legend.\n",
            "/usr/local/lib/python3.6/dist-packages/ipykernel_launcher.py:119: UserWarning: The handle <matplotlib.collections.PathCollection object at 0x7f9128782438> has a label of '_collection1' which cannot be automatically added to the legend.\n",
            "/usr/local/lib/python3.6/dist-packages/ipykernel_launcher.py:119: UserWarning: The handle <matplotlib.collections.PathCollection object at 0x7f9128dc8588> has a label of '_collection0' which cannot be automatically added to the legend.\n",
            "/usr/local/lib/python3.6/dist-packages/ipykernel_launcher.py:119: UserWarning: The handle <matplotlib.collections.PathCollection object at 0x7f9128dc8978> has a label of '_collection1' which cannot be automatically added to the legend.\n",
            "/usr/local/lib/python3.6/dist-packages/ipykernel_launcher.py:119: UserWarning: The handle <matplotlib.collections.PathCollection object at 0x7f9128361b70> has a label of '_collection0' which cannot be automatically added to the legend.\n",
            "/usr/local/lib/python3.6/dist-packages/ipykernel_launcher.py:119: UserWarning: The handle <matplotlib.collections.PathCollection object at 0x7f9128097400> has a label of '_collection1' which cannot be automatically added to the legend.\n",
            "/usr/local/lib/python3.6/dist-packages/ipykernel_launcher.py:119: UserWarning: The handle <matplotlib.collections.PathCollection object at 0x7f91282e7160> has a label of '_collection0' which cannot be automatically added to the legend.\n",
            "/usr/local/lib/python3.6/dist-packages/ipykernel_launcher.py:119: UserWarning: The handle <matplotlib.collections.PathCollection object at 0x7f91282e7b70> has a label of '_collection1' which cannot be automatically added to the legend.\n",
            "/usr/local/lib/python3.6/dist-packages/ipykernel_launcher.py:119: UserWarning: The handle <matplotlib.collections.PathCollection object at 0x7f9128911908> has a label of '_collection0' which cannot be automatically added to the legend.\n",
            "/usr/local/lib/python3.6/dist-packages/ipykernel_launcher.py:119: UserWarning: The handle <matplotlib.collections.PathCollection object at 0x7f91286ff940> has a label of '_collection1' which cannot be automatically added to the legend.\n",
            "/usr/local/lib/python3.6/dist-packages/ipykernel_launcher.py:119: UserWarning: The handle <matplotlib.collections.PathCollection object at 0x7f91283b3128> has a label of '_collection0' which cannot be automatically added to the legend.\n",
            "/usr/local/lib/python3.6/dist-packages/ipykernel_launcher.py:119: UserWarning: The handle <matplotlib.collections.PathCollection object at 0x7f9128817860> has a label of '_collection1' which cannot be automatically added to the legend.\n",
            "/usr/local/lib/python3.6/dist-packages/ipykernel_launcher.py:119: UserWarning: The handle <matplotlib.collections.PathCollection object at 0x7f9128dcce48> has a label of '_collection0' which cannot be automatically added to the legend.\n",
            "/usr/local/lib/python3.6/dist-packages/ipykernel_launcher.py:119: UserWarning: The handle <matplotlib.collections.PathCollection object at 0x7f912b604ac8> has a label of '_collection1' which cannot be automatically added to the legend.\n",
            "/usr/local/lib/python3.6/dist-packages/ipykernel_launcher.py:119: UserWarning: The handle <matplotlib.collections.PathCollection object at 0x7f912b64a710> has a label of '_collection0' which cannot be automatically added to the legend.\n",
            "/usr/local/lib/python3.6/dist-packages/ipykernel_launcher.py:119: UserWarning: The handle <matplotlib.collections.PathCollection object at 0x7f9128476048> has a label of '_collection1' which cannot be automatically added to the legend.\n",
            "/usr/local/lib/python3.6/dist-packages/ipykernel_launcher.py:119: UserWarning: The handle <matplotlib.collections.PathCollection object at 0x7f91284a5668> has a label of '_collection0' which cannot be automatically added to the legend.\n",
            "/usr/local/lib/python3.6/dist-packages/ipykernel_launcher.py:119: UserWarning: The handle <matplotlib.collections.PathCollection object at 0x7f91284a5390> has a label of '_collection1' which cannot be automatically added to the legend.\n",
            "/usr/local/lib/python3.6/dist-packages/ipykernel_launcher.py:119: UserWarning: The handle <matplotlib.collections.PathCollection object at 0x7f912b643d68> has a label of '_collection0' which cannot be automatically added to the legend.\n",
            "/usr/local/lib/python3.6/dist-packages/ipykernel_launcher.py:119: UserWarning: The handle <matplotlib.collections.PathCollection object at 0x7f912b643080> has a label of '_collection1' which cannot be automatically added to the legend.\n",
            "/usr/local/lib/python3.6/dist-packages/ipykernel_launcher.py:119: UserWarning: The handle <matplotlib.collections.PathCollection object at 0x7f912b60d160> has a label of '_collection1' which cannot be automatically added to the legend.\n",
            "/usr/local/lib/python3.6/dist-packages/ipykernel_launcher.py:119: UserWarning: The handle <matplotlib.collections.PathCollection object at 0x7f9128476a20> has a label of '_collection0' which cannot be automatically added to the legend.\n",
            "/usr/local/lib/python3.6/dist-packages/ipykernel_launcher.py:119: UserWarning: The handle <matplotlib.collections.PathCollection object at 0x7f9128274240> has a label of '_collection1' which cannot be automatically added to the legend.\n",
            "/usr/local/lib/python3.6/dist-packages/ipykernel_launcher.py:119: UserWarning: The handle <matplotlib.collections.PathCollection object at 0x7f9128217f60> has a label of '_collection0' which cannot be automatically added to the legend.\n",
            "/usr/local/lib/python3.6/dist-packages/ipykernel_launcher.py:119: UserWarning: The handle <matplotlib.collections.PathCollection object at 0x7f9128217630> has a label of '_collection1' which cannot be automatically added to the legend.\n",
            "/usr/local/lib/python3.6/dist-packages/ipykernel_launcher.py:119: UserWarning: The handle <matplotlib.collections.PathCollection object at 0x7f912833d2b0> has a label of '_collection0' which cannot be automatically added to the legend.\n",
            "/usr/local/lib/python3.6/dist-packages/ipykernel_launcher.py:119: UserWarning: The handle <matplotlib.collections.PathCollection object at 0x7f912833df60> has a label of '_collection1' which cannot be automatically added to the legend.\n",
            "/usr/local/lib/python3.6/dist-packages/ipykernel_launcher.py:119: UserWarning: The handle <matplotlib.collections.PathCollection object at 0x7f91282d3748> has a label of '_collection0' which cannot be automatically added to the legend.\n",
            "/usr/local/lib/python3.6/dist-packages/ipykernel_launcher.py:119: UserWarning: The handle <matplotlib.collections.PathCollection object at 0x7f91282d3ac8> has a label of '_collection1' which cannot be automatically added to the legend.\n",
            "/usr/local/lib/python3.6/dist-packages/ipykernel_launcher.py:119: UserWarning: The handle <matplotlib.collections.PathCollection object at 0x7f91280c4c18> has a label of '_collection0' which cannot be automatically added to the legend.\n",
            "/usr/local/lib/python3.6/dist-packages/ipykernel_launcher.py:119: UserWarning: The handle <matplotlib.collections.PathCollection object at 0x7f91280c45f8> has a label of '_collection1' which cannot be automatically added to the legend.\n",
            "/usr/local/lib/python3.6/dist-packages/ipykernel_launcher.py:119: UserWarning: The handle <matplotlib.collections.PathCollection object at 0x7f9128245898> has a label of '_collection0' which cannot be automatically added to the legend.\n",
            "/usr/local/lib/python3.6/dist-packages/ipykernel_launcher.py:119: UserWarning: The handle <matplotlib.collections.PathCollection object at 0x7f9128245a20> has a label of '_collection1' which cannot be automatically added to the legend.\n",
            "/usr/local/lib/python3.6/dist-packages/ipykernel_launcher.py:119: UserWarning: The handle <matplotlib.collections.PathCollection object at 0x7f91282cafd0> has a label of '_collection0' which cannot be automatically added to the legend.\n",
            "/usr/local/lib/python3.6/dist-packages/ipykernel_launcher.py:119: UserWarning: The handle <matplotlib.collections.PathCollection object at 0x7f9128371390> has a label of '_collection1' which cannot be automatically added to the legend.\n",
            "/usr/local/lib/python3.6/dist-packages/ipykernel_launcher.py:119: UserWarning: The handle <matplotlib.collections.PathCollection object at 0x7f912835feb8> has a label of '_collection0' which cannot be automatically added to the legend.\n",
            "/usr/local/lib/python3.6/dist-packages/ipykernel_launcher.py:119: UserWarning: The handle <matplotlib.collections.PathCollection object at 0x7f912835fe10> has a label of '_collection1' which cannot be automatically added to the legend.\n",
            "/usr/local/lib/python3.6/dist-packages/ipykernel_launcher.py:119: UserWarning: The handle <matplotlib.collections.PathCollection object at 0x7f91284a52b0> has a label of '_collection0' which cannot be automatically added to the legend.\n",
            "/usr/local/lib/python3.6/dist-packages/ipykernel_launcher.py:119: UserWarning: The handle <matplotlib.collections.PathCollection object at 0x7f91286e84a8> has a label of '_collection1' which cannot be automatically added to the legend.\n",
            "/usr/local/lib/python3.6/dist-packages/ipykernel_launcher.py:119: UserWarning: The handle <matplotlib.collections.PathCollection object at 0x7f9128361198> has a label of '_collection0' which cannot be automatically added to the legend.\n",
            "/usr/local/lib/python3.6/dist-packages/ipykernel_launcher.py:119: UserWarning: The handle <matplotlib.collections.PathCollection object at 0x7f912b64a7f0> has a label of '_collection1' which cannot be automatically added to the legend.\n",
            "/usr/local/lib/python3.6/dist-packages/ipykernel_launcher.py:119: UserWarning: The handle <matplotlib.collections.PathCollection object at 0x7f9128747ac8> has a label of '_collection0' which cannot be automatically added to the legend.\n",
            "/usr/local/lib/python3.6/dist-packages/ipykernel_launcher.py:119: UserWarning: The handle <matplotlib.collections.PathCollection object at 0x7f91282e9828> has a label of '_collection1' which cannot be automatically added to the legend.\n",
            "/usr/local/lib/python3.6/dist-packages/ipykernel_launcher.py:119: UserWarning: The handle <matplotlib.collections.PathCollection object at 0x7f9128320c50> has a label of '_collection0' which cannot be automatically added to the legend.\n",
            "/usr/local/lib/python3.6/dist-packages/ipykernel_launcher.py:119: UserWarning: The handle <matplotlib.collections.PathCollection object at 0x7f912b6452e8> has a label of '_collection1' which cannot be automatically added to the legend.\n",
            "/usr/local/lib/python3.6/dist-packages/ipykernel_launcher.py:119: UserWarning: The handle <matplotlib.collections.PathCollection object at 0x7f91283fb160> has a label of '_collection0' which cannot be automatically added to the legend.\n",
            "/usr/local/lib/python3.6/dist-packages/ipykernel_launcher.py:119: UserWarning: The handle <matplotlib.collections.PathCollection object at 0x7f91283fb4e0> has a label of '_collection1' which cannot be automatically added to the legend.\n",
            "/usr/local/lib/python3.6/dist-packages/ipykernel_launcher.py:119: UserWarning: The handle <matplotlib.collections.PathCollection object at 0x7f91282af6d8> has a label of '_collection0' which cannot be automatically added to the legend.\n",
            "/usr/local/lib/python3.6/dist-packages/ipykernel_launcher.py:119: UserWarning: The handle <matplotlib.collections.PathCollection object at 0x7f912833d908> has a label of '_collection1' which cannot be automatically added to the legend.\n",
            "/usr/local/lib/python3.6/dist-packages/ipykernel_launcher.py:119: UserWarning: The handle <matplotlib.collections.PathCollection object at 0x7f91286ff0f0> has a label of '_collection0' which cannot be automatically added to the legend.\n",
            "/usr/local/lib/python3.6/dist-packages/ipykernel_launcher.py:119: UserWarning: The handle <matplotlib.collections.PathCollection object at 0x7f91283b39e8> has a label of '_collection1' which cannot be automatically added to the legend.\n",
            "/usr/local/lib/python3.6/dist-packages/ipykernel_launcher.py:119: UserWarning: The handle <matplotlib.collections.PathCollection object at 0x7f9128755358> has a label of '_collection0' which cannot be automatically added to the legend.\n",
            "/usr/local/lib/python3.6/dist-packages/ipykernel_launcher.py:119: UserWarning: The handle <matplotlib.collections.PathCollection object at 0x7f91282c00b8> has a label of '_collection1' which cannot be automatically added to the legend.\n",
            "/usr/local/lib/python3.6/dist-packages/ipykernel_launcher.py:119: UserWarning: The handle <matplotlib.collections.PathCollection object at 0x7f912b642588> has a label of '_collection0' which cannot be automatically added to the legend.\n",
            "/usr/local/lib/python3.6/dist-packages/ipykernel_launcher.py:119: UserWarning: The handle <matplotlib.collections.PathCollection object at 0x7f91287550b8> has a label of '_collection1' which cannot be automatically added to the legend.\n",
            "/usr/local/lib/python3.6/dist-packages/ipykernel_launcher.py:119: UserWarning: The handle <matplotlib.collections.PathCollection object at 0x7f91288171d0> has a label of '_collection0' which cannot be automatically added to the legend.\n",
            "/usr/local/lib/python3.6/dist-packages/ipykernel_launcher.py:119: UserWarning: The handle <matplotlib.collections.PathCollection object at 0x7f9128817780> has a label of '_collection1' which cannot be automatically added to the legend.\n",
            "/usr/local/lib/python3.6/dist-packages/ipykernel_launcher.py:119: UserWarning: The handle <matplotlib.collections.PathCollection object at 0x7f912877f240> has a label of '_collection0' which cannot be automatically added to the legend.\n",
            "/usr/local/lib/python3.6/dist-packages/ipykernel_launcher.py:119: UserWarning: The handle <matplotlib.collections.PathCollection object at 0x7f912877f6a0> has a label of '_collection1' which cannot be automatically added to the legend.\n",
            "/usr/local/lib/python3.6/dist-packages/ipykernel_launcher.py:119: UserWarning: The handle <matplotlib.collections.PathCollection object at 0x7f91283b9a58> has a label of '_collection0' which cannot be automatically added to the legend.\n",
            "/usr/local/lib/python3.6/dist-packages/ipykernel_launcher.py:119: UserWarning: The handle <matplotlib.collections.PathCollection object at 0x7f91281fc7b8> has a label of '_collection1' which cannot be automatically added to the legend.\n",
            "/usr/local/lib/python3.6/dist-packages/ipykernel_launcher.py:119: UserWarning: The handle <matplotlib.collections.PathCollection object at 0x7f9128722ef0> has a label of '_collection0' which cannot be automatically added to the legend.\n",
            "/usr/local/lib/python3.6/dist-packages/ipykernel_launcher.py:119: UserWarning: The handle <matplotlib.collections.PathCollection object at 0x7f912871b9e8> has a label of '_collection1' which cannot be automatically added to the legend.\n",
            "/usr/local/lib/python3.6/dist-packages/ipykernel_launcher.py:119: UserWarning: The handle <matplotlib.collections.PathCollection object at 0x7f91282935c0> has a label of '_collection0' which cannot be automatically added to the legend.\n",
            "/usr/local/lib/python3.6/dist-packages/ipykernel_launcher.py:119: UserWarning: The handle <matplotlib.collections.PathCollection object at 0x7f91282934a8> has a label of '_collection1' which cannot be automatically added to the legend.\n",
            "/usr/local/lib/python3.6/dist-packages/ipykernel_launcher.py:119: UserWarning: The handle <matplotlib.collections.PathCollection object at 0x7f91281fc320> has a label of '_collection0' which cannot be automatically added to the legend.\n",
            "/usr/local/lib/python3.6/dist-packages/ipykernel_launcher.py:119: UserWarning: The handle <matplotlib.collections.PathCollection object at 0x7f91281fc978> has a label of '_collection1' which cannot be automatically added to the legend.\n",
            "/usr/local/lib/python3.6/dist-packages/ipykernel_launcher.py:119: UserWarning: The handle <matplotlib.collections.PathCollection object at 0x7f91282c04a8> has a label of '_collection0' which cannot be automatically added to the legend.\n",
            "/usr/local/lib/python3.6/dist-packages/ipykernel_launcher.py:119: UserWarning: The handle <matplotlib.collections.PathCollection object at 0x7f91282c09e8> has a label of '_collection1' which cannot be automatically added to the legend.\n",
            "/usr/local/lib/python3.6/dist-packages/ipykernel_launcher.py:119: UserWarning: The handle <matplotlib.collections.PathCollection object at 0x7f9128d9d550> has a label of '_collection0' which cannot be automatically added to the legend.\n",
            "/usr/local/lib/python3.6/dist-packages/ipykernel_launcher.py:119: UserWarning: The handle <matplotlib.collections.PathCollection object at 0x7f9128d9d278> has a label of '_collection1' which cannot be automatically added to the legend.\n",
            "/usr/local/lib/python3.6/dist-packages/ipykernel_launcher.py:119: UserWarning: The handle <matplotlib.collections.PathCollection object at 0x7f9128263940> has a label of '_collection0' which cannot be automatically added to the legend.\n",
            "/usr/local/lib/python3.6/dist-packages/ipykernel_launcher.py:119: UserWarning: The handle <matplotlib.collections.PathCollection object at 0x7f9128263c88> has a label of '_collection1' which cannot be automatically added to the legend.\n",
            "/usr/local/lib/python3.6/dist-packages/ipykernel_launcher.py:119: UserWarning: The handle <matplotlib.collections.PathCollection object at 0x7f912b64b9e8> has a label of '_collection0' which cannot be automatically added to the legend.\n",
            "/usr/local/lib/python3.6/dist-packages/ipykernel_launcher.py:119: UserWarning: The handle <matplotlib.collections.PathCollection object at 0x7f912b64bcf8> has a label of '_collection1' which cannot be automatically added to the legend.\n",
            "/usr/local/lib/python3.6/dist-packages/ipykernel_launcher.py:119: UserWarning: The handle <matplotlib.collections.PathCollection object at 0x7f912835b208> has a label of '_collection0' which cannot be automatically added to the legend.\n",
            "/usr/local/lib/python3.6/dist-packages/ipykernel_launcher.py:119: UserWarning: The handle <matplotlib.collections.PathCollection object at 0x7f91282184e0> has a label of '_collection1' which cannot be automatically added to the legend.\n",
            "/usr/local/lib/python3.6/dist-packages/ipykernel_launcher.py:119: UserWarning: The handle <matplotlib.collections.PathCollection object at 0x7f912b6478d0> has a label of '_collection0' which cannot be automatically added to the legend.\n",
            "/usr/local/lib/python3.6/dist-packages/ipykernel_launcher.py:119: UserWarning: The handle <matplotlib.collections.PathCollection object at 0x7f9128097390> has a label of '_collection1' which cannot be automatically added to the legend.\n",
            "/usr/local/lib/python3.6/dist-packages/ipykernel_launcher.py:119: UserWarning: The handle <matplotlib.collections.PathCollection object at 0x7f9128218dd8> has a label of '_collection0' which cannot be automatically added to the legend.\n",
            "/usr/local/lib/python3.6/dist-packages/ipykernel_launcher.py:119: UserWarning: The handle <matplotlib.collections.PathCollection object at 0x7f9128218f28> has a label of '_collection1' which cannot be automatically added to the legend.\n",
            "/usr/local/lib/python3.6/dist-packages/ipykernel_launcher.py:119: UserWarning: The handle <matplotlib.collections.PathCollection object at 0x7f91281097b8> has a label of '_collection0' which cannot be automatically added to the legend.\n",
            "/usr/local/lib/python3.6/dist-packages/ipykernel_launcher.py:119: UserWarning: The handle <matplotlib.collections.PathCollection object at 0x7f91281099e8> has a label of '_collection1' which cannot be automatically added to the legend.\n",
            "/usr/local/lib/python3.6/dist-packages/ipykernel_launcher.py:119: UserWarning: The handle <matplotlib.collections.PathCollection object at 0x7f91280f6518> has a label of '_collection0' which cannot be automatically added to the legend.\n",
            "/usr/local/lib/python3.6/dist-packages/ipykernel_launcher.py:119: UserWarning: The handle <matplotlib.collections.PathCollection object at 0x7f91280f6898> has a label of '_collection1' which cannot be automatically added to the legend.\n",
            "/usr/local/lib/python3.6/dist-packages/ipykernel_launcher.py:119: UserWarning: The handle <matplotlib.collections.PathCollection object at 0x7f91281fc6a0> has a label of '_collection0' which cannot be automatically added to the legend.\n",
            "/usr/local/lib/python3.6/dist-packages/ipykernel_launcher.py:119: UserWarning: The handle <matplotlib.collections.PathCollection object at 0x7f912b60d940> has a label of '_collection1' which cannot be automatically added to the legend.\n",
            "/usr/local/lib/python3.6/dist-packages/ipykernel_launcher.py:119: UserWarning: The handle <matplotlib.collections.PathCollection object at 0x7f91281c07b8> has a label of '_collection0' which cannot be automatically added to the legend.\n",
            "/usr/local/lib/python3.6/dist-packages/ipykernel_launcher.py:119: UserWarning: The handle <matplotlib.collections.PathCollection object at 0x7f91287286a0> has a label of '_collection1' which cannot be automatically added to the legend.\n",
            "/usr/local/lib/python3.6/dist-packages/ipykernel_launcher.py:119: UserWarning: The handle <matplotlib.collections.PathCollection object at 0x7f91283fb9e8> has a label of '_collection0' which cannot be automatically added to the legend.\n",
            "/usr/local/lib/python3.6/dist-packages/ipykernel_launcher.py:119: UserWarning: The handle <matplotlib.collections.PathCollection object at 0x7f91280c4898> has a label of '_collection1' which cannot be automatically added to the legend.\n",
            "/usr/local/lib/python3.6/dist-packages/ipykernel_launcher.py:119: UserWarning: The handle <matplotlib.collections.PathCollection object at 0x7f912b647c50> has a label of '_collection0' which cannot be automatically added to the legend.\n",
            "/usr/local/lib/python3.6/dist-packages/ipykernel_launcher.py:119: UserWarning: The handle <matplotlib.collections.PathCollection object at 0x7f912b647400> has a label of '_collection1' which cannot be automatically added to the legend.\n",
            "/usr/local/lib/python3.6/dist-packages/ipykernel_launcher.py:119: UserWarning: The handle <matplotlib.collections.PathCollection object at 0x7f912b64a8d0> has a label of '_collection0' which cannot be automatically added to the legend.\n",
            "/usr/local/lib/python3.6/dist-packages/ipykernel_launcher.py:119: UserWarning: The handle <matplotlib.collections.PathCollection object at 0x7f91282a5278> has a label of '_collection1' which cannot be automatically added to the legend.\n",
            "/usr/local/lib/python3.6/dist-packages/ipykernel_launcher.py:119: UserWarning: The handle <matplotlib.collections.PathCollection object at 0x7f9128173668> has a label of '_collection0' which cannot be automatically added to the legend.\n",
            "/usr/local/lib/python3.6/dist-packages/ipykernel_launcher.py:119: UserWarning: The handle <matplotlib.collections.PathCollection object at 0x7f9128173048> has a label of '_collection1' which cannot be automatically added to the legend.\n",
            "/usr/local/lib/python3.6/dist-packages/ipykernel_launcher.py:119: UserWarning: The handle <matplotlib.collections.PathCollection object at 0x7f9128263630> has a label of '_collection0' which cannot be automatically added to the legend.\n",
            "/usr/local/lib/python3.6/dist-packages/ipykernel_launcher.py:119: UserWarning: The handle <matplotlib.collections.PathCollection object at 0x7f9128263710> has a label of '_collection1' which cannot be automatically added to the legend.\n",
            "/usr/local/lib/python3.6/dist-packages/ipykernel_launcher.py:119: UserWarning: The handle <matplotlib.collections.PathCollection object at 0x7f91286ff0b8> has a label of '_collection0' which cannot be automatically added to the legend.\n",
            "/usr/local/lib/python3.6/dist-packages/ipykernel_launcher.py:119: UserWarning: The handle <matplotlib.collections.PathCollection object at 0x7f91286ffa20> has a label of '_collection1' which cannot be automatically added to the legend.\n",
            "/usr/local/lib/python3.6/dist-packages/ipykernel_launcher.py:119: UserWarning: The handle <matplotlib.collections.PathCollection object at 0x7f91281c0be0> has a label of '_collection0' which cannot be automatically added to the legend.\n",
            "/usr/local/lib/python3.6/dist-packages/ipykernel_launcher.py:119: UserWarning: The handle <matplotlib.collections.PathCollection object at 0x7f9128336cf8> has a label of '_collection1' which cannot be automatically added to the legend.\n",
            "/usr/local/lib/python3.6/dist-packages/ipykernel_launcher.py:119: UserWarning: The handle <matplotlib.collections.PathCollection object at 0x7f912b64a240> has a label of '_collection0' which cannot be automatically added to the legend.\n",
            "/usr/local/lib/python3.6/dist-packages/ipykernel_launcher.py:119: UserWarning: The handle <matplotlib.collections.PathCollection object at 0x7f912b64a198> has a label of '_collection1' which cannot be automatically added to the legend.\n",
            "/usr/local/lib/python3.6/dist-packages/ipykernel_launcher.py:119: UserWarning: The handle <matplotlib.collections.PathCollection object at 0x7f9128911320> has a label of '_collection0' which cannot be automatically added to the legend.\n",
            "/usr/local/lib/python3.6/dist-packages/ipykernel_launcher.py:119: UserWarning: The handle <matplotlib.collections.PathCollection object at 0x7f912817c3c8> has a label of '_collection1' which cannot be automatically added to the legend.\n",
            "/usr/local/lib/python3.6/dist-packages/ipykernel_launcher.py:119: UserWarning: The handle <matplotlib.collections.PathCollection object at 0x7f9128911588> has a label of '_collection0' which cannot be automatically added to the legend.\n",
            "/usr/local/lib/python3.6/dist-packages/ipykernel_launcher.py:119: UserWarning: The handle <matplotlib.collections.PathCollection object at 0x7f9128185278> has a label of '_collection1' which cannot be automatically added to the legend.\n",
            "/usr/local/lib/python3.6/dist-packages/ipykernel_launcher.py:119: UserWarning: The handle <matplotlib.collections.PathCollection object at 0x7f912b6042b0> has a label of '_collection0' which cannot be automatically added to the legend.\n",
            "/usr/local/lib/python3.6/dist-packages/ipykernel_launcher.py:119: UserWarning: The handle <matplotlib.collections.PathCollection object at 0x7f9128351dd8> has a label of '_collection1' which cannot be automatically added to the legend.\n",
            "/usr/local/lib/python3.6/dist-packages/ipykernel_launcher.py:119: UserWarning: The handle <matplotlib.collections.PathCollection object at 0x7f91282a5f28> has a label of '_collection0' which cannot be automatically added to the legend.\n",
            "/usr/local/lib/python3.6/dist-packages/ipykernel_launcher.py:119: UserWarning: The handle <matplotlib.collections.PathCollection object at 0x7f912b6450b8> has a label of '_collection1' which cannot be automatically added to the legend.\n",
            "/usr/local/lib/python3.6/dist-packages/ipykernel_launcher.py:119: UserWarning: The handle <matplotlib.collections.PathCollection object at 0x7f9128423278> has a label of '_collection0' which cannot be automatically added to the legend.\n",
            "/usr/local/lib/python3.6/dist-packages/ipykernel_launcher.py:119: UserWarning: The handle <matplotlib.collections.PathCollection object at 0x7f91286e8be0> has a label of '_collection1' which cannot be automatically added to the legend.\n",
            "/usr/local/lib/python3.6/dist-packages/ipykernel_launcher.py:119: UserWarning: The handle <matplotlib.collections.PathCollection object at 0x7f912b604be0> has a label of '_collection0' which cannot be automatically added to the legend.\n",
            "/usr/local/lib/python3.6/dist-packages/ipykernel_launcher.py:119: UserWarning: The handle <matplotlib.collections.PathCollection object at 0x7f91281fcd68> has a label of '_collection1' which cannot be automatically added to the legend.\n",
            "/usr/local/lib/python3.6/dist-packages/ipykernel_launcher.py:119: UserWarning: The handle <matplotlib.collections.PathCollection object at 0x7f912848f198> has a label of '_collection0' which cannot be automatically added to the legend.\n",
            "/usr/local/lib/python3.6/dist-packages/ipykernel_launcher.py:119: UserWarning: The handle <matplotlib.collections.PathCollection object at 0x7f912848f518> has a label of '_collection1' which cannot be automatically added to the legend.\n",
            "/usr/local/lib/python3.6/dist-packages/ipykernel_launcher.py:119: UserWarning: The handle <matplotlib.collections.PathCollection object at 0x7f9128140ac8> has a label of '_collection0' which cannot be automatically added to the legend.\n",
            "/usr/local/lib/python3.6/dist-packages/ipykernel_launcher.py:119: UserWarning: The handle <matplotlib.collections.PathCollection object at 0x7f91280d5b38> has a label of '_collection1' which cannot be automatically added to the legend.\n",
            "/usr/local/lib/python3.6/dist-packages/ipykernel_launcher.py:119: UserWarning: The handle <matplotlib.collections.PathCollection object at 0x7f9128351c50> has a label of '_collection0' which cannot be automatically added to the legend.\n",
            "/usr/local/lib/python3.6/dist-packages/ipykernel_launcher.py:119: UserWarning: The handle <matplotlib.collections.PathCollection object at 0x7f9128351cf8> has a label of '_collection1' which cannot be automatically added to the legend.\n",
            "/usr/local/lib/python3.6/dist-packages/ipykernel_launcher.py:119: UserWarning: The handle <matplotlib.collections.PathCollection object at 0x7f912874f2b0> has a label of '_collection0' which cannot be automatically added to the legend.\n",
            "/usr/local/lib/python3.6/dist-packages/ipykernel_launcher.py:119: UserWarning: The handle <matplotlib.collections.PathCollection object at 0x7f912874fe48> has a label of '_collection1' which cannot be automatically added to the legend.\n",
            "/usr/local/lib/python3.6/dist-packages/ipykernel_launcher.py:119: UserWarning: The handle <matplotlib.collections.PathCollection object at 0x7f91281c05c0> has a label of '_collection0' which cannot be automatically added to the legend.\n",
            "/usr/local/lib/python3.6/dist-packages/ipykernel_launcher.py:119: UserWarning: The handle <matplotlib.collections.PathCollection object at 0x7f9128351828> has a label of '_collection1' which cannot be automatically added to the legend.\n",
            "/usr/local/lib/python3.6/dist-packages/ipykernel_launcher.py:119: UserWarning: The handle <matplotlib.collections.PathCollection object at 0x7f9128455a58> has a label of '_collection0' which cannot be automatically added to the legend.\n",
            "/usr/local/lib/python3.6/dist-packages/ipykernel_launcher.py:119: UserWarning: The handle <matplotlib.collections.PathCollection object at 0x7f9128455e10> has a label of '_collection1' which cannot be automatically added to the legend.\n",
            "/usr/local/lib/python3.6/dist-packages/ipykernel_launcher.py:119: UserWarning: The handle <matplotlib.collections.PathCollection object at 0x7f9128183978> has a label of '_collection0' which cannot be automatically added to the legend.\n",
            "/usr/local/lib/python3.6/dist-packages/ipykernel_launcher.py:119: UserWarning: The handle <matplotlib.collections.PathCollection object at 0x7f9128183898> has a label of '_collection1' which cannot be automatically added to the legend.\n",
            "/usr/local/lib/python3.6/dist-packages/ipykernel_launcher.py:119: UserWarning: The handle <matplotlib.collections.PathCollection object at 0x7f91283515f8> has a label of '_collection0' which cannot be automatically added to the legend.\n",
            "/usr/local/lib/python3.6/dist-packages/ipykernel_launcher.py:119: UserWarning: The handle <matplotlib.collections.PathCollection object at 0x7f91283513c8> has a label of '_collection1' which cannot be automatically added to the legend.\n",
            "/usr/local/lib/python3.6/dist-packages/ipykernel_launcher.py:119: UserWarning: The handle <matplotlib.collections.PathCollection object at 0x7f912be6ed30> has a label of '_collection0' which cannot be automatically added to the legend.\n",
            "/usr/local/lib/python3.6/dist-packages/ipykernel_launcher.py:119: UserWarning: The handle <matplotlib.collections.PathCollection object at 0x7f91283d3048> has a label of '_collection1' which cannot be automatically added to the legend.\n",
            "/usr/local/lib/python3.6/dist-packages/ipykernel_launcher.py:119: UserWarning: The handle <matplotlib.collections.PathCollection object at 0x7f9128351c18> has a label of '_collection0' which cannot be automatically added to the legend.\n",
            "/usr/local/lib/python3.6/dist-packages/ipykernel_launcher.py:119: UserWarning: The handle <matplotlib.collections.PathCollection object at 0x7f9128da6fd0> has a label of '_collection1' which cannot be automatically added to the legend.\n",
            "/usr/local/lib/python3.6/dist-packages/ipykernel_launcher.py:119: UserWarning: The handle <matplotlib.collections.PathCollection object at 0x7f9128214ac8> has a label of '_collection0' which cannot be automatically added to the legend.\n",
            "/usr/local/lib/python3.6/dist-packages/ipykernel_launcher.py:119: UserWarning: The handle <matplotlib.collections.PathCollection object at 0x7f91282146a0> has a label of '_collection1' which cannot be automatically added to the legend.\n"
          ],
          "name": "stderr"
        },
        {
          "output_type": "stream",
          "text": [
            "Train accuracy: 83.89830508474577 %\n"
          ],
          "name": "stdout"
        },
        {
          "output_type": "stream",
          "text": [
            "/usr/local/lib/python3.6/dist-packages/ipykernel_launcher.py:119: UserWarning: The handle <matplotlib.collections.PathCollection object at 0x7f912823dbe0> has a label of '_collection0' which cannot be automatically added to the legend.\n",
            "/usr/local/lib/python3.6/dist-packages/ipykernel_launcher.py:119: UserWarning: The handle <matplotlib.collections.PathCollection object at 0x7f912823d6a0> has a label of '_collection1' which cannot be automatically added to the legend.\n"
          ],
          "name": "stderr"
        },
        {
          "output_type": "display_data",
          "data": {
            "image/png": "[encoded data removed]",
            "text/plain": [
              "<Figure size 432x288 with 1 Axes>"
            ]
          },
          "metadata": {
            "tags": [],
            "needs_background": "light"
          }
        }
      ]
    },
    {
      "cell_type": "code",
      "metadata": {
        "id": "vnhhE2GlJuwB",
        "colab_type": "code",
        "colab": {}
      },
      "source": [
        ""
      ],
      "execution_count": 0,
      "outputs": []
    }
  ]
}