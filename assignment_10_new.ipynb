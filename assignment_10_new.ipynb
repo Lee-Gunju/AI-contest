{
  "nbformat": 4,
  "nbformat_minor": 0,
  "metadata": {
    "colab": {
      "name": "assignment_10_new.ipynb",
      "provenance": [],
      "authorship_tag": "ABX9TyOq3y7IvDdTRAUfZKQzzfpo",
      "include_colab_link": true
    },
    "kernelspec": {
      "name": "python3",
      "display_name": "Python 3"
    },
    "accelerator": "GPU"
  },
  "cells": [
    {
      "cell_type": "markdown",
      "metadata": {
        "id": "view-in-github",
        "colab_type": "text"
      },
      "source": [
        "<a href=\"https://colab.research.google.com/github/Lee-Gunju/Lee-Gunju/blob/master/assignment_10_new.ipynb\" target=\"_parent\"><img src=\"https://colab.research.google.com/assets/colab-badge.svg\" alt=\"Open In Colab\"/></a>"
      ]
    },
    {
      "cell_type": "code",
      "metadata": {
        "id": "YZnbAjEo91dc",
        "colab_type": "code",
        "colab": {
          "base_uri": "https://localhost:8080/",
          "height": 227
        },
        "outputId": "a0f6f7c2-6324-4db8-8c33-ce591bdbdb26"
      },
      "source": [
        "import matplotlib.pyplot as plt\n",
        "import numpy as np\n",
        "import csv\n",
        "\n",
        "file_data   = \"mnist.csv\"\n",
        "handle_file = open(file_data, \"r\")\n",
        "data        = handle_file.readlines()\n",
        "handle_file.close()\n",
        "\n",
        "def normal(image):\n",
        "  image = (image - min(image)) / (max(image) - min(image))\n",
        "  return image\n",
        "\n",
        "size_row, size_col, image_num = 28, 28, len(data)\n",
        "image_vec = np.empty((image_num, size_row * size_col))\n",
        "label_vec = np.empty(image_num)\n",
        "cnt = -1\n",
        "\n",
        "for i in data:\n",
        "  cnt += 1\n",
        "  delete_dot = i.split(',') \n",
        "  label_vec[cnt] = delete_dot[0]\n",
        "  delete_dot = np.asfarray(delete_dot)\n",
        "  image_vec[cnt] = delete_dot[1:]\n",
        "  image_vec[cnt] = normal(image_vec[cnt])\n",
        "\n",
        "plt.figure()\n",
        "for i in range(10):\n",
        "  plt.subplot(2, 5, i + 1)\n",
        "  plt.title(label_vec[i])\n",
        "  plt.imshow(image_vec[i].reshape((size_col, size_row)), cmap = 'Greys', interpolation='None')\n",
        "  frame = plt.gca()\n",
        "  frame.axes.get_xaxis().set_visible(False)\n",
        "  frame.axes.get_yaxis().set_visible(False)\n",
        "plt.show()\n",
        "\n",
        "def one_hot(label, mid):\n",
        "  num = len(label)\n",
        "  one_hot_label = np.zeros((num, 10)) + 0.01\n",
        "  cnt = -1\n",
        "  for i in label:\n",
        "    cnt += 1\n",
        "    one_hot_label[cnt][int(i)] = 0.99\n",
        "  return one_hot_label[:mid], one_hot_label[mid:]\n",
        "\n",
        "def mapping(image, label, mid):\n",
        "  train_X, test_X = image[:mid], image[mid:, :]\n",
        "  train_Y, test_Y = one_hot(label, mid)\n",
        "  return train_X, train_Y, test_X, test_Y\n",
        "\n",
        "def sigmoid(z):\n",
        "  return 1 / (1 + np.exp(-z))\n",
        "\n",
        "class NeuralNetwork():\n",
        "  def __init__(self):\n",
        "    self.lr = 0.1\n",
        "    self.decay = 0.6\n",
        "    self.w1 = np.random.randn(784, 400)\n",
        "    self.b1 = np.zeros(self.w1.shape[1])\n",
        "    self.w2 = np.random.randn(self.w1.shape[1], 80)\n",
        "    self.b2 = np.zeros(self.w2.shape[1])\n",
        "    self.w3 = np.random.randn(self.w2.shape[1], 10)\n",
        "    self.b3 = np.zeros(self.w3.shape[1])\n",
        "    self.n = (self.w1.shape[0] * self.w1.shape[1]) + (self.w2.shape[0] * self.w2.shape[1]) + (self.w3.shape[0] * self.w3.shape[1])\n",
        "\n",
        "  def forward(self, input):\n",
        "    x = np.dot(input, self.w1) + self.b1\n",
        "    self.X = sigmoid(x)\n",
        "    y = np.dot(self.X, self.w2) + self.b2\n",
        "    self.Y = sigmoid(y)\n",
        "    z = np.dot(self.Y, self.w3) + self.b3\n",
        "    self.Z = sigmoid(z)\n",
        "\n",
        "  def backpropa(self, input, output):\n",
        "    temp = output - self.Z\n",
        "    self.w3 += self.lr * ((np.dot(self.Y.T, temp)) + ((self.decay / self.n) * self.w3))\n",
        "    self.b3 += self.lr * np.sum(temp, axis = 0)\n",
        "    temp = np.dot(temp, self.w3.T)\n",
        "    temp = np.multiply(temp, np.multiply(self.Y, (1.0 - self.Y)))\n",
        "    self.w2 += self.lr * ((np.dot(self.X.T, temp)) + ((self.decay / self.n) * self.w2))\n",
        "    self.b2 += self.lr * np.sum(temp, axis = 0)\n",
        "    temp = np.dot(temp, self.w2.T)\n",
        "    temp = np.multiply(temp, np.multiply(self.X, (1.0 - self.X)))\n",
        "    self.w1 += self.lr * ((np.dot(input.T, temp)) + ((self.decay / self.n) * self.w1))\n",
        "    self.b1 += self.lr * np.sum(temp, axis = 0)\n",
        "  \n",
        "  def objective(self, l, h, m):\n",
        "    #n = (self.w1.shape[0] * self.w1.shape[1]) + (self.w2.shape[0] * self.w2.shape[1]) + (self.w3.shape[0] * self.w3.shape[1])\n",
        "    J = np.sum(np.multiply(-l, np.log(h)) - np.multiply((1-h), np.log(1-h))) / m\n",
        "    J += (self.decay / (2*self.n)) * ((np.sum(np.square(self.w1))) + (np.sum(np.square(self.w2))) + (np.sum(np.square(self.w3))))\n",
        "    return J\n",
        "\n",
        "\n",
        "  def train(self, input, output):\n",
        "    input = np.array(input, ndmin = 2)\n",
        "    output = np.array(output, ndmin = 2)\n",
        "    self.forward(input)\n",
        "    self.backpropa(input, output)\n",
        "  \n",
        "  def predict(self, input):\n",
        "    self.forward(input)\n",
        "    return self.Z\n",
        "  \n",
        "  def test(self, input, output):\n",
        "    T, F = 0, 0\n",
        "    self.forward(input)\n",
        "    for i in range(len(input)):\n",
        "      result = self.Z[i].argmax()\n",
        "      if result == int(output[i]):\n",
        "        T += 1\n",
        "      else:\n",
        "        F += 1\n",
        "    return T / (T + F)\n",
        "  \n",
        "  def classification(self, input, output):\n",
        "    T_i, F_i, T_l, F_l = [], [], [], []\n",
        "    for i in range(len(input)):\n",
        "      result = self.predict(input[i])\n",
        "      result_max = result.argmax()\n",
        "      if result_max == output[i]:\n",
        "        T_i.append(input[i])\n",
        "        T_l.append(result_max)\n",
        "      else:\n",
        "        F_i.append(input[i])\n",
        "        F_l.append(result_max)\n",
        "      if len(T_l) >= 10 and len(F_l) >= 10:\n",
        "        return T_i, F_i, T_l, F_l\n",
        "\n"
      ],
      "execution_count": 33,
      "outputs": [
        {
          "output_type": "display_data",
          "data": {
            "image/png": "[encoded data removed]",
            "text/plain": [
              "<Figure size 432x288 with 10 Axes>"
            ]
          },
          "metadata": {
            "tags": [],
            "needs_background": "light"
          }
        }
      ]
    },
    {
      "cell_type": "code",
      "metadata": {
        "id": "ZXcoUpIV_-dC",
        "colab_type": "code",
        "colab": {
          "base_uri": "https://localhost:8080/",
          "height": 3617
        },
        "outputId": "aad9f992-e66f-4e2c-ee2e-a502b2dc1833"
      },
      "source": [
        "mid = int(image_num * 0.1)\n",
        "train_X, train_Y, test_X, test_Y = mapping(image_vec, label_vec, mid)\n",
        "train_target = label_vec[:mid]\n",
        "test_target = label_vec[mid:]\n",
        "\n",
        "model = NeuralNetwork()\n",
        "epoch = 100\n",
        "train_plot_J, train_plot_Acc, test_plot_J, test_plot_Acc = [], [], [], []\n",
        "\n",
        "for i in range(epoch):\n",
        "  print(i + 1)\n",
        "  for j in range(mid):\n",
        "    model.train(train_X[j], train_Y[j])\n",
        "  train_J = model.objective(train_Y, model.predict(train_X), image_num)\n",
        "  train_Acc = model.test(train_X, train_target)\n",
        "  train_plot_J.append(train_J)\n",
        "  train_plot_Acc.append(train_Acc)\n",
        "\n",
        "  test_J = model.objective(test_Y, model.predict(test_X), image_num)\n",
        "  test_Acc = model.test(test_X, test_target)\n",
        "  print(test_Acc)\n",
        "  test_plot_J.append(test_J)\n",
        "  test_plot_Acc.append(test_Acc)\n",
        "\n",
        "T_images, F_images, T_label, F_label = model.classification(test_X, test_target)"
      ],
      "execution_count": 34,
      "outputs": [
        {
          "output_type": "stream",
          "text": [
            "1\n",
            "0.4776666666666667\n",
            "2\n",
            "0.5428888888888889\n",
            "3\n",
            "0.5833333333333334\n",
            "4\n",
            "0.6157777777777778\n",
            "5\n",
            "0.6897777777777778\n",
            "6\n",
            "0.7237777777777777\n",
            "7\n",
            "0.771\n",
            "8\n",
            "0.7355555555555555\n",
            "9\n",
            "0.7361111111111112\n",
            "10\n",
            "0.7806666666666666\n",
            "11\n",
            "0.8188888888888889\n",
            "12\n",
            "0.8256666666666667\n",
            "13\n",
            "0.8241111111111111\n",
            "14\n",
            "0.8265555555555556\n",
            "15\n",
            "0.8263333333333334\n",
            "16\n",
            "0.825\n",
            "17\n",
            "0.8256666666666667\n",
            "18\n",
            "0.8252222222222222\n",
            "19\n",
            "0.8254444444444444\n",
            "20\n",
            "0.8263333333333334\n",
            "21\n",
            "0.8266666666666667\n",
            "22\n",
            "0.8261111111111111\n",
            "23\n",
            "0.8267777777777777\n",
            "24\n",
            "0.8254444444444444\n",
            "25\n",
            "0.8253333333333334\n",
            "26\n",
            "0.8258888888888889\n",
            "27\n",
            "0.8242222222222222\n",
            "28\n",
            "0.8232222222222222\n",
            "29\n",
            "0.8227777777777778\n",
            "30\n",
            "0.8235555555555556\n",
            "31\n",
            "0.8235555555555556\n",
            "32\n",
            "0.8237777777777778\n",
            "33\n",
            "0.8231111111111111\n",
            "34\n",
            "0.8227777777777778\n",
            "35\n",
            "0.8231111111111111\n",
            "36\n",
            "0.8226666666666667\n",
            "37\n",
            "0.8225555555555556\n",
            "38\n",
            "0.8218888888888889\n",
            "39\n",
            "0.8223333333333334\n",
            "40\n",
            "0.8228888888888889\n",
            "41\n",
            "0.8225555555555556\n",
            "42\n",
            "0.8211111111111111\n",
            "43\n",
            "0.822\n",
            "44\n",
            "0.8212222222222222\n",
            "45\n",
            "0.8205555555555556\n",
            "46\n",
            "0.8201111111111111\n",
            "47\n",
            "0.8198888888888889\n",
            "48\n",
            "0.8195555555555556\n",
            "49\n",
            "0.8193333333333334\n",
            "50\n",
            "0.819\n",
            "51\n",
            "0.819\n",
            "52\n",
            "0.8196666666666667\n",
            "53\n",
            "0.8198888888888889\n",
            "54\n",
            "0.8204444444444444\n",
            "55\n",
            "0.8205555555555556\n",
            "56\n",
            "0.8206666666666667\n",
            "57\n",
            "0.8202222222222222\n",
            "58\n",
            "0.819\n",
            "59\n",
            "0.8178888888888889\n",
            "60\n",
            "0.8186666666666667\n",
            "61\n",
            "0.8187777777777778\n",
            "62\n",
            "0.8194444444444444\n",
            "63\n",
            "0.8186666666666667\n",
            "64\n",
            "0.8193333333333334\n",
            "65\n",
            "0.8186666666666667\n",
            "66\n",
            "0.8194444444444444\n",
            "67\n",
            "0.819\n",
            "68\n",
            "0.8201111111111111\n",
            "69\n",
            "0.8195555555555556\n",
            "70\n",
            "0.8197777777777778\n",
            "71\n",
            "0.8192222222222222\n",
            "72\n",
            "0.8185555555555556\n",
            "73\n",
            "0.8188888888888889\n",
            "74\n",
            "0.8185555555555556\n",
            "75\n",
            "0.8188888888888889\n",
            "76\n",
            "0.8184444444444444\n",
            "77\n",
            "0.8188888888888889\n",
            "78\n",
            "0.8185555555555556\n",
            "79\n",
            "0.8191111111111111\n",
            "80\n",
            "0.8194444444444444\n",
            "81\n",
            "0.8193333333333334\n",
            "82\n",
            "0.8188888888888889\n",
            "83\n",
            "0.8187777777777778\n",
            "84\n",
            "0.8186666666666667\n",
            "85\n",
            "0.819\n",
            "86\n",
            "0.8187777777777778\n",
            "87\n",
            "0.8185555555555556\n",
            "88\n",
            "0.8185555555555556\n",
            "89\n",
            "0.8186666666666667\n",
            "90\n",
            "0.819\n",
            "91\n",
            "0.8187777777777778\n",
            "92\n",
            "0.8187777777777778\n",
            "93\n",
            "0.8178888888888889\n",
            "94\n",
            "0.8174444444444444\n",
            "95\n",
            "0.8174444444444444\n",
            "96\n",
            "0.8174444444444444\n",
            "97\n",
            "0.8174444444444444\n",
            "98\n",
            "0.8176666666666667\n",
            "99\n",
            "0.8173333333333334\n",
            "100\n",
            "0.8172222222222222\n"
          ],
          "name": "stdout"
        }
      ]
    },
    {
      "cell_type": "code",
      "metadata": {
        "id": "MLBjIBHPW8hB",
        "colab_type": "code",
        "colab": {
          "base_uri": "https://localhost:8080/",
          "height": 265
        },
        "outputId": "e7739cb1-3f30-404d-868f-09e5d177da2f"
      },
      "source": [
        "# 1. Plot the loss curve\n",
        "plt.figure()\n",
        "plt.plot(train_plot_J, 'b', label = 'train')\n",
        "plt.plot(test_plot_J, 'r', label = 'test')\n",
        "plt.legend()\n",
        "plt.show()"
      ],
      "execution_count": 35,
      "outputs": [
        {
          "output_type": "display_data",
          "data": {
            "image/png": "[encoded data removed]",
            "text/plain": [
              "<Figure size 432x288 with 1 Axes>"
            ]
          },
          "metadata": {
            "tags": [],
            "needs_background": "light"
          }
        }
      ]
    },
    {
      "cell_type": "code",
      "metadata": {
        "id": "1mTd1Dq3iw2N",
        "colab_type": "code",
        "colab": {
          "base_uri": "https://localhost:8080/",
          "height": 265
        },
        "outputId": "59a38781-359e-4d82-c2f2-658e4fb10ccc"
      },
      "source": [
        "# 2. Plot the accuracy curve\n",
        "plt.figure()\n",
        "plt.plot(train_plot_Acc, 'b', label = 'train_accuracy')\n",
        "plt.plot(test_plot_Acc, 'r', label = 'test_accuracy')\n",
        "plt.legend()\n",
        "plt.show()"
      ],
      "execution_count": 36,
      "outputs": [
        {
          "output_type": "display_data",
          "data": {
            "image/png": "[encoded data removed]",
            "text/plain": [
              "<Figure size 432x288 with 1 Axes>"
            ]
          },
          "metadata": {
            "tags": [],
            "needs_background": "light"
          }
        }
      ]
    },
    {
      "cell_type": "code",
      "metadata": {
        "id": "7Rq7lhtOmnLA",
        "colab_type": "code",
        "colab": {
          "base_uri": "https://localhost:8080/",
          "height": 53
        },
        "outputId": "2fa4a054-f477-453a-91b6-4a27542a580c"
      },
      "source": [
        "# 3. Plot the accuracy value\n",
        "print(\"Final train accuracy : \", train_plot_Acc[len(train_plot_Acc) - 1] * 100)\n",
        "print(\"Final test accuracy : \", test_plot_Acc[len(test_plot_Acc) - 1] * 100)"
      ],
      "execution_count": 37,
      "outputs": [
        {
          "output_type": "stream",
          "text": [
            "Final train accuracy :  100.0\n",
            "Final test accuracy :  81.72222222222221\n"
          ],
          "name": "stdout"
        }
      ]
    },
    {
      "cell_type": "code",
      "metadata": {
        "id": "6Z44g1QPmqG2",
        "colab_type": "code",
        "colab": {
          "base_uri": "https://localhost:8080/",
          "height": 527
        },
        "outputId": "f623de48-7259-4f4b-d704-f942ea4c657a"
      },
      "source": [
        "# 4. Plot the classification example\n",
        "\n",
        "print('Classified Testing Images')\n",
        "plt.figure()\n",
        "for i in range(10):\n",
        "  plt.subplot(2, 5, i + 1)\n",
        "  plt.title(T_label[i])\n",
        "  plt.imshow(T_images[i].reshape((size_col, size_row)), cmap = 'Greys', interpolation = 'None')\n",
        "  frame = plt.gca()\n",
        "  frame.axes.get_xaxis().set_visible(False)\n",
        "  frame.axes.get_yaxis().set_visible(False)\n",
        "plt.show()\n",
        "\n",
        "print('\\n\\n\\n Misclassified Test Images')\n",
        "plt.figure()\n",
        "for i in range(10):\n",
        "  plt.subplot(2, 5, i + 1)\n",
        "  plt.title(F_label[i])\n",
        "  plt.imshow(F_images[i].reshape((size_col, size_row)), cmap = 'Greys', interpolation = 'None')\n",
        "  frame = plt.gca()\n",
        "  frame.axes.get_xaxis().set_visible(False)\n",
        "  frame.axes.get_yaxis().set_visible(False)\n",
        "plt.show()"
      ],
      "execution_count": 38,
      "outputs": [
        {
          "output_type": "stream",
          "text": [
            "Classified Testing Images\n"
          ],
          "name": "stdout"
        },
        {
          "output_type": "display_data",
          "data": {
            "image/png": "[encoded data removed]",
            "text/plain": [
              "<Figure size 432x288 with 10 Axes>"
            ]
          },
          "metadata": {
            "tags": [],
            "needs_background": "light"
          }
        },
        {
          "output_type": "stream",
          "text": [
            "\n",
            "\n",
            "\n",
            " Misclassified Test Images\n"
          ],
          "name": "stdout"
        },
        {
          "output_type": "display_data",
          "data": {
            "image/png": "[encoded data removed]",
            "text/plain": [
              "<Figure size 432x288 with 10 Axes>"
            ]
          },
          "metadata": {
            "tags": [],
            "needs_background": "light"
          }
        }
      ]
    },
    {
      "cell_type": "code",
      "metadata": {
        "id": "eBjsYa1SmqKL",
        "colab_type": "code",
        "colab": {
          "base_uri": "https://localhost:8080/",
          "height": 1817
        },
        "outputId": "98a23cfd-ba76-46ea-fb3e-a5ba34af1ac1"
      },
      "source": [
        "# 5. Testing accuracy [20pt]\n",
        "test_plot_Acc.sort(reverse = True)\n",
        "for i, values in enumerate(test_plot_Acc):\n",
        "  print(i+1, \":\", values)"
      ],
      "execution_count": 39,
      "outputs": [
        {
          "output_type": "stream",
          "text": [
            "1 : 0.8267777777777777\n",
            "2 : 0.8266666666666667\n",
            "3 : 0.8265555555555556\n",
            "4 : 0.8263333333333334\n",
            "5 : 0.8263333333333334\n",
            "6 : 0.8261111111111111\n",
            "7 : 0.8258888888888889\n",
            "8 : 0.8256666666666667\n",
            "9 : 0.8256666666666667\n",
            "10 : 0.8254444444444444\n",
            "11 : 0.8254444444444444\n",
            "12 : 0.8253333333333334\n",
            "13 : 0.8252222222222222\n",
            "14 : 0.825\n",
            "15 : 0.8242222222222222\n",
            "16 : 0.8241111111111111\n",
            "17 : 0.8237777777777778\n",
            "18 : 0.8235555555555556\n",
            "19 : 0.8235555555555556\n",
            "20 : 0.8232222222222222\n",
            "21 : 0.8231111111111111\n",
            "22 : 0.8231111111111111\n",
            "23 : 0.8228888888888889\n",
            "24 : 0.8227777777777778\n",
            "25 : 0.8227777777777778\n",
            "26 : 0.8226666666666667\n",
            "27 : 0.8225555555555556\n",
            "28 : 0.8225555555555556\n",
            "29 : 0.8223333333333334\n",
            "30 : 0.822\n",
            "31 : 0.8218888888888889\n",
            "32 : 0.8212222222222222\n",
            "33 : 0.8211111111111111\n",
            "34 : 0.8206666666666667\n",
            "35 : 0.8205555555555556\n",
            "36 : 0.8205555555555556\n",
            "37 : 0.8204444444444444\n",
            "38 : 0.8202222222222222\n",
            "39 : 0.8201111111111111\n",
            "40 : 0.8201111111111111\n",
            "41 : 0.8198888888888889\n",
            "42 : 0.8198888888888889\n",
            "43 : 0.8197777777777778\n",
            "44 : 0.8196666666666667\n",
            "45 : 0.8195555555555556\n",
            "46 : 0.8195555555555556\n",
            "47 : 0.8194444444444444\n",
            "48 : 0.8194444444444444\n",
            "49 : 0.8194444444444444\n",
            "50 : 0.8193333333333334\n",
            "51 : 0.8193333333333334\n",
            "52 : 0.8193333333333334\n",
            "53 : 0.8192222222222222\n",
            "54 : 0.8191111111111111\n",
            "55 : 0.819\n",
            "56 : 0.819\n",
            "57 : 0.819\n",
            "58 : 0.819\n",
            "59 : 0.819\n",
            "60 : 0.819\n",
            "61 : 0.8188888888888889\n",
            "62 : 0.8188888888888889\n",
            "63 : 0.8188888888888889\n",
            "64 : 0.8188888888888889\n",
            "65 : 0.8188888888888889\n",
            "66 : 0.8187777777777778\n",
            "67 : 0.8187777777777778\n",
            "68 : 0.8187777777777778\n",
            "69 : 0.8187777777777778\n",
            "70 : 0.8187777777777778\n",
            "71 : 0.8186666666666667\n",
            "72 : 0.8186666666666667\n",
            "73 : 0.8186666666666667\n",
            "74 : 0.8186666666666667\n",
            "75 : 0.8186666666666667\n",
            "76 : 0.8185555555555556\n",
            "77 : 0.8185555555555556\n",
            "78 : 0.8185555555555556\n",
            "79 : 0.8185555555555556\n",
            "80 : 0.8185555555555556\n",
            "81 : 0.8184444444444444\n",
            "82 : 0.8178888888888889\n",
            "83 : 0.8178888888888889\n",
            "84 : 0.8176666666666667\n",
            "85 : 0.8174444444444444\n",
            "86 : 0.8174444444444444\n",
            "87 : 0.8174444444444444\n",
            "88 : 0.8174444444444444\n",
            "89 : 0.8173333333333334\n",
            "90 : 0.8172222222222222\n",
            "91 : 0.7806666666666666\n",
            "92 : 0.771\n",
            "93 : 0.7361111111111112\n",
            "94 : 0.7355555555555555\n",
            "95 : 0.7237777777777777\n",
            "96 : 0.6897777777777778\n",
            "97 : 0.6157777777777778\n",
            "98 : 0.5833333333333334\n",
            "99 : 0.5428888888888889\n",
            "100 : 0.4776666666666667\n"
          ],
          "name": "stdout"
        }
      ]
    },
    {
      "cell_type": "code",
      "metadata": {
        "id": "UJsbZUXKmtd0",
        "colab_type": "code",
        "colab": {}
      },
      "source": [
        ""
      ],
      "execution_count": 0,
      "outputs": []
    }
  ]
}